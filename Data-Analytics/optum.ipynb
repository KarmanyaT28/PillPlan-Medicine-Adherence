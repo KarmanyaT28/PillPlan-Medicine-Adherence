{
 "cells": [
  {
   "cell_type": "code",
   "execution_count": 1,
   "id": "5cbae429",
   "metadata": {
    "_cell_guid": "b1076dfc-b9ad-4769-8c92-a6c4dae69d19",
    "_uuid": "8f2839f25d086af736a60e9eeb907d3b93b6e0e5",
    "execution": {
     "iopub.execute_input": "2021-11-03T18:08:26.235942Z",
     "iopub.status.busy": "2021-11-03T18:08:26.225826Z",
     "iopub.status.idle": "2021-11-03T18:08:26.256710Z",
     "shell.execute_reply": "2021-11-03T18:08:26.257283Z",
     "shell.execute_reply.started": "2021-11-03T18:03:38.096528Z"
    },
    "papermill": {
     "duration": 0.075061,
     "end_time": "2021-11-03T18:08:26.257651",
     "exception": false,
     "start_time": "2021-11-03T18:08:26.182590",
     "status": "completed"
    },
    "tags": []
   },
   "outputs": [
    {
     "name": "stdout",
     "output_type": "stream",
     "text": [
      "/kaggle/input/dataoptum/observations.csv\n",
      "/kaggle/input/dataoptum/conditions.csv\n",
      "/kaggle/input/dataoptum/encounters.csv\n",
      "/kaggle/input/dataoptum/procedures.csv\n",
      "/kaggle/input/dataoptum/allergies.csv\n",
      "/kaggle/input/dataoptum/medications.csv\n",
      "/kaggle/input/dataoptum/payers.csv\n",
      "/kaggle/input/dataoptum/imaging_studies.csv\n",
      "/kaggle/input/dataoptum/patients.csv\n",
      "/kaggle/input/dataoptum/providers.csv\n",
      "/kaggle/input/dataoptum/immunizations.csv\n"
     ]
    }
   ],
   "source": [
    "\n",
    "\n",
    "import numpy as np # linear algebra\n",
    "import pandas as pd # data processing, CSV file I/O (e.g. pd.read_csv)\n",
    "\n",
    "\n",
    "import os\n",
    "for dirname, _, filenames in os.walk('/kaggle/input'):\n",
    "    for filename in filenames:\n",
    "        print(os.path.join(dirname, filename))\n",
    "\n"
   ]
  },
  {
   "cell_type": "code",
   "execution_count": 2,
   "id": "0cd02385",
   "metadata": {
    "execution": {
     "iopub.execute_input": "2021-11-03T18:08:26.332230Z",
     "iopub.status.busy": "2021-11-03T18:08:26.331365Z",
     "iopub.status.idle": "2021-11-03T18:08:26.386870Z",
     "shell.execute_reply": "2021-11-03T18:08:26.387527Z",
     "shell.execute_reply.started": "2021-11-03T18:03:38.151854Z"
    },
    "papermill": {
     "duration": 0.09486,
     "end_time": "2021-11-03T18:08:26.387765",
     "exception": false,
     "start_time": "2021-11-03T18:08:26.292905",
     "status": "completed"
    },
    "tags": []
   },
   "outputs": [
    {
     "data": {
      "text/html": [
       "<div>\n",
       "<style scoped>\n",
       "    .dataframe tbody tr th:only-of-type {\n",
       "        vertical-align: middle;\n",
       "    }\n",
       "\n",
       "    .dataframe tbody tr th {\n",
       "        vertical-align: top;\n",
       "    }\n",
       "\n",
       "    .dataframe thead th {\n",
       "        text-align: right;\n",
       "    }\n",
       "</style>\n",
       "<table border=\"1\" class=\"dataframe\">\n",
       "  <thead>\n",
       "    <tr style=\"text-align: right;\">\n",
       "      <th></th>\n",
       "      <th>Id</th>\n",
       "      <th>BIRTHDATE</th>\n",
       "      <th>DEATHDATE</th>\n",
       "      <th>FIRST</th>\n",
       "      <th>LAST</th>\n",
       "      <th>MARITAL</th>\n",
       "      <th>RACE</th>\n",
       "      <th>ETHNICITY</th>\n",
       "      <th>GENDER</th>\n",
       "      <th>CITY</th>\n",
       "      <th>STATE</th>\n",
       "      <th>COUNTY</th>\n",
       "      <th>HEALTHCARE_EXPENSES</th>\n",
       "      <th>HEALTHCARE_COVERAGE</th>\n",
       "    </tr>\n",
       "  </thead>\n",
       "  <tbody>\n",
       "    <tr>\n",
       "      <th>0</th>\n",
       "      <td>00185faa-2760-4218-9bf5-db301acf8274</td>\n",
       "      <td>18-11-2003</td>\n",
       "      <td>NaN</td>\n",
       "      <td>Eusebio566</td>\n",
       "      <td>Wyman904</td>\n",
       "      <td>NaN</td>\n",
       "      <td>white</td>\n",
       "      <td>nonhispanic</td>\n",
       "      <td>M</td>\n",
       "      <td>Lynn</td>\n",
       "      <td>Massachusetts</td>\n",
       "      <td>Essex County</td>\n",
       "      <td>360851.05</td>\n",
       "      <td>9863.36</td>\n",
       "    </tr>\n",
       "    <tr>\n",
       "      <th>1</th>\n",
       "      <td>0042862c-9889-4a2e-b782-fac1e540ecb4</td>\n",
       "      <td>26-11-2009</td>\n",
       "      <td>NaN</td>\n",
       "      <td>Dewitt635</td>\n",
       "      <td>Feest103</td>\n",
       "      <td>NaN</td>\n",
       "      <td>white</td>\n",
       "      <td>nonhispanic</td>\n",
       "      <td>M</td>\n",
       "      <td>Boston</td>\n",
       "      <td>Massachusetts</td>\n",
       "      <td>Suffolk County</td>\n",
       "      <td>20006.08</td>\n",
       "      <td>1240.76</td>\n",
       "    </tr>\n",
       "    <tr>\n",
       "      <th>2</th>\n",
       "      <td>0047123f-12e7-486c-82df-53b3a450e365</td>\n",
       "      <td>20-01-1960</td>\n",
       "      <td>NaN</td>\n",
       "      <td>Jordon466</td>\n",
       "      <td>Harber290</td>\n",
       "      <td>M</td>\n",
       "      <td>black</td>\n",
       "      <td>nonhispanic</td>\n",
       "      <td>M</td>\n",
       "      <td>Middleton</td>\n",
       "      <td>Massachusetts</td>\n",
       "      <td>Essex County</td>\n",
       "      <td>185715.36</td>\n",
       "      <td>7108.77</td>\n",
       "    </tr>\n",
       "    <tr>\n",
       "      <th>3</th>\n",
       "      <td>010d4a3a-2316-45ed-ae15-16f01c611674</td>\n",
       "      <td>31-05-1998</td>\n",
       "      <td>NaN</td>\n",
       "      <td>Patrick786</td>\n",
       "      <td>Hettinger594</td>\n",
       "      <td>NaN</td>\n",
       "      <td>white</td>\n",
       "      <td>nonhispanic</td>\n",
       "      <td>M</td>\n",
       "      <td>Pittsfield</td>\n",
       "      <td>Massachusetts</td>\n",
       "      <td>Berkshire County</td>\n",
       "      <td>504727.10</td>\n",
       "      <td>3346.40</td>\n",
       "    </tr>\n",
       "    <tr>\n",
       "      <th>4</th>\n",
       "      <td>01207ecd-9dff-4754-8887-4652eda231e2</td>\n",
       "      <td>15-05-2019</td>\n",
       "      <td>NaN</td>\n",
       "      <td>Karyn217</td>\n",
       "      <td>Mueller846</td>\n",
       "      <td>NaN</td>\n",
       "      <td>white</td>\n",
       "      <td>nonhispanic</td>\n",
       "      <td>F</td>\n",
       "      <td>Colrain</td>\n",
       "      <td>Massachusetts</td>\n",
       "      <td>Franklin County</td>\n",
       "      <td>26400.00</td>\n",
       "      <td>774.96</td>\n",
       "    </tr>\n",
       "  </tbody>\n",
       "</table>\n",
       "</div>"
      ],
      "text/plain": [
       "                                     Id   BIRTHDATE DEATHDATE       FIRST  \\\n",
       "0  00185faa-2760-4218-9bf5-db301acf8274  18-11-2003       NaN  Eusebio566   \n",
       "1  0042862c-9889-4a2e-b782-fac1e540ecb4  26-11-2009       NaN   Dewitt635   \n",
       "2  0047123f-12e7-486c-82df-53b3a450e365  20-01-1960       NaN   Jordon466   \n",
       "3  010d4a3a-2316-45ed-ae15-16f01c611674  31-05-1998       NaN  Patrick786   \n",
       "4  01207ecd-9dff-4754-8887-4652eda231e2  15-05-2019       NaN    Karyn217   \n",
       "\n",
       "           LAST MARITAL   RACE    ETHNICITY GENDER        CITY          STATE  \\\n",
       "0      Wyman904     NaN  white  nonhispanic      M        Lynn  Massachusetts   \n",
       "1      Feest103     NaN  white  nonhispanic      M      Boston  Massachusetts   \n",
       "2     Harber290       M  black  nonhispanic      M   Middleton  Massachusetts   \n",
       "3  Hettinger594     NaN  white  nonhispanic      M  Pittsfield  Massachusetts   \n",
       "4    Mueller846     NaN  white  nonhispanic      F     Colrain  Massachusetts   \n",
       "\n",
       "             COUNTY  HEALTHCARE_EXPENSES  HEALTHCARE_COVERAGE  \n",
       "0      Essex County            360851.05              9863.36  \n",
       "1    Suffolk County             20006.08              1240.76  \n",
       "2      Essex County            185715.36              7108.77  \n",
       "3  Berkshire County            504727.10              3346.40  \n",
       "4   Franklin County             26400.00               774.96  "
      ]
     },
     "execution_count": 2,
     "metadata": {},
     "output_type": "execute_result"
    }
   ],
   "source": [
    "df_patients = pd.read_csv(\"../input/dataoptum/patients.csv\")\n",
    "df_patients.head()"
   ]
  },
  {
   "cell_type": "code",
   "execution_count": 3,
   "id": "23eb98ac",
   "metadata": {
    "execution": {
     "iopub.execute_input": "2021-11-03T18:08:26.471163Z",
     "iopub.status.busy": "2021-11-03T18:08:26.470009Z",
     "iopub.status.idle": "2021-11-03T18:08:26.477356Z",
     "shell.execute_reply": "2021-11-03T18:08:26.476587Z",
     "shell.execute_reply.started": "2021-11-03T18:03:38.184344Z"
    },
    "papermill": {
     "duration": 0.054132,
     "end_time": "2021-11-03T18:08:26.477529",
     "exception": false,
     "start_time": "2021-11-03T18:08:26.423397",
     "status": "completed"
    },
    "tags": []
   },
   "outputs": [],
   "source": [
    "df_patients.dtypes\n",
    "df_patients['BIRTHDATE'] = pd.to_datetime(df_patients['BIRTHDATE'])"
   ]
  },
  {
   "cell_type": "code",
   "execution_count": 4,
   "id": "2abe3ee4",
   "metadata": {
    "execution": {
     "iopub.execute_input": "2021-11-03T18:08:26.553918Z",
     "iopub.status.busy": "2021-11-03T18:08:26.553085Z",
     "iopub.status.idle": "2021-11-03T18:08:26.558592Z",
     "shell.execute_reply": "2021-11-03T18:08:26.559057Z",
     "shell.execute_reply.started": "2021-11-03T18:03:38.196383Z"
    },
    "papermill": {
     "duration": 0.047531,
     "end_time": "2021-11-03T18:08:26.559299",
     "exception": false,
     "start_time": "2021-11-03T18:08:26.511768",
     "status": "completed"
    },
    "tags": []
   },
   "outputs": [
    {
     "data": {
      "text/plain": [
       "0      2003-11-18\n",
       "1      2009-11-26\n",
       "2      1960-01-20\n",
       "3      1998-05-31\n",
       "4      2019-05-15\n",
       "          ...    \n",
       "1166   1999-01-09\n",
       "1167   1997-05-20\n",
       "1168   1977-06-27\n",
       "1169   1966-02-11\n",
       "1170   2016-06-13\n",
       "Name: BIRTHDATE, Length: 1171, dtype: datetime64[ns]"
      ]
     },
     "execution_count": 4,
     "metadata": {},
     "output_type": "execute_result"
    }
   ],
   "source": [
    "df_patients['BIRTHDATE']"
   ]
  },
  {
   "cell_type": "code",
   "execution_count": 5,
   "id": "79ef4ebc",
   "metadata": {
    "execution": {
     "iopub.execute_input": "2021-11-03T18:08:26.630579Z",
     "iopub.status.busy": "2021-11-03T18:08:26.629811Z",
     "iopub.status.idle": "2021-11-03T18:08:26.637236Z",
     "shell.execute_reply": "2021-11-03T18:08:26.637741Z",
     "shell.execute_reply.started": "2021-11-03T18:03:38.212978Z"
    },
    "papermill": {
     "duration": 0.044794,
     "end_time": "2021-11-03T18:08:26.637966",
     "exception": false,
     "start_time": "2021-11-03T18:08:26.593172",
     "status": "completed"
    },
    "tags": []
   },
   "outputs": [
    {
     "data": {
      "text/plain": [
       "Id                             object\n",
       "BIRTHDATE              datetime64[ns]\n",
       "DEATHDATE                      object\n",
       "FIRST                          object\n",
       "LAST                           object\n",
       "MARITAL                        object\n",
       "RACE                           object\n",
       "ETHNICITY                      object\n",
       "GENDER                         object\n",
       "CITY                           object\n",
       "STATE                          object\n",
       "COUNTY                         object\n",
       "HEALTHCARE_EXPENSES           float64\n",
       "HEALTHCARE_COVERAGE           float64\n",
       "dtype: object"
      ]
     },
     "execution_count": 5,
     "metadata": {},
     "output_type": "execute_result"
    }
   ],
   "source": [
    "df_patients.dtypes"
   ]
  },
  {
   "cell_type": "code",
   "execution_count": 6,
   "id": "5270f0c6",
   "metadata": {
    "execution": {
     "iopub.execute_input": "2021-11-03T18:08:26.708837Z",
     "iopub.status.busy": "2021-11-03T18:08:26.708059Z",
     "iopub.status.idle": "2021-11-03T18:08:26.713563Z",
     "shell.execute_reply": "2021-11-03T18:08:26.714146Z",
     "shell.execute_reply.started": "2021-11-03T18:03:38.226425Z"
    },
    "papermill": {
     "duration": 0.042963,
     "end_time": "2021-11-03T18:08:26.714366",
     "exception": false,
     "start_time": "2021-11-03T18:08:26.671403",
     "status": "completed"
    },
    "tags": []
   },
   "outputs": [],
   "source": [
    "def from_dob_to_age(born):\n",
    "    today = datetime.date.today()\n",
    "    return today.year - born.year - ((today.month, today.day) < (born.month, born.day))"
   ]
  },
  {
   "cell_type": "code",
   "execution_count": 7,
   "id": "c8989cda",
   "metadata": {
    "execution": {
     "iopub.execute_input": "2021-11-03T18:08:26.796896Z",
     "iopub.status.busy": "2021-11-03T18:08:26.795842Z",
     "iopub.status.idle": "2021-11-03T18:08:26.818987Z",
     "shell.execute_reply": "2021-11-03T18:08:26.819750Z",
     "shell.execute_reply.started": "2021-11-03T18:03:38.236135Z"
    },
    "papermill": {
     "duration": 0.068686,
     "end_time": "2021-11-03T18:08:26.820018",
     "exception": false,
     "start_time": "2021-11-03T18:08:26.751332",
     "status": "completed"
    },
    "tags": []
   },
   "outputs": [
    {
     "name": "stderr",
     "output_type": "stream",
     "text": [
      "/opt/conda/lib/python3.7/site-packages/ipykernel_launcher.py:3: FutureWarning: The pandas.datetime class is deprecated and will be removed from pandas in a future version. Import from datetime module instead.\n",
      "  This is separate from the ipykernel package so we can avoid doing imports until\n"
     ]
    }
   ],
   "source": [
    "df_patients[\"BIRTHDATE\"] = pd.to_datetime(df_patients[\"BIRTHDATE\"])\n",
    "\n",
    "df_patients[\"age\"] = df_patients[\"BIRTHDATE\"].apply(lambda x : (pd.datetime.now().year - x.year))"
   ]
  },
  {
   "cell_type": "code",
   "execution_count": 8,
   "id": "d65f48fc",
   "metadata": {
    "execution": {
     "iopub.execute_input": "2021-11-03T18:08:26.900673Z",
     "iopub.status.busy": "2021-11-03T18:08:26.899783Z",
     "iopub.status.idle": "2021-11-03T18:08:26.912242Z",
     "shell.execute_reply": "2021-11-03T18:08:26.912835Z",
     "shell.execute_reply.started": "2021-11-03T18:03:38.269570Z"
    },
    "papermill": {
     "duration": 0.054278,
     "end_time": "2021-11-03T18:08:26.913079",
     "exception": false,
     "start_time": "2021-11-03T18:08:26.858801",
     "status": "completed"
    },
    "tags": []
   },
   "outputs": [],
   "source": [
    "df_patients.drop('MARITAL', axis='columns', inplace=True)"
   ]
  },
  {
   "cell_type": "code",
   "execution_count": 9,
   "id": "b7997453",
   "metadata": {
    "execution": {
     "iopub.execute_input": "2021-11-03T18:08:27.007263Z",
     "iopub.status.busy": "2021-11-03T18:08:26.995093Z",
     "iopub.status.idle": "2021-11-03T18:08:27.020164Z",
     "shell.execute_reply": "2021-11-03T18:08:27.020866Z",
     "shell.execute_reply.started": "2021-11-03T18:03:38.277568Z"
    },
    "papermill": {
     "duration": 0.06938,
     "end_time": "2021-11-03T18:08:27.021068",
     "exception": false,
     "start_time": "2021-11-03T18:08:26.951688",
     "status": "completed"
    },
    "tags": []
   },
   "outputs": [
    {
     "data": {
      "text/html": [
       "<div>\n",
       "<style scoped>\n",
       "    .dataframe tbody tr th:only-of-type {\n",
       "        vertical-align: middle;\n",
       "    }\n",
       "\n",
       "    .dataframe tbody tr th {\n",
       "        vertical-align: top;\n",
       "    }\n",
       "\n",
       "    .dataframe thead th {\n",
       "        text-align: right;\n",
       "    }\n",
       "</style>\n",
       "<table border=\"1\" class=\"dataframe\">\n",
       "  <thead>\n",
       "    <tr style=\"text-align: right;\">\n",
       "      <th></th>\n",
       "      <th>Id</th>\n",
       "      <th>BIRTHDATE</th>\n",
       "      <th>DEATHDATE</th>\n",
       "      <th>RACE</th>\n",
       "      <th>ETHNICITY</th>\n",
       "      <th>GENDER</th>\n",
       "      <th>CITY</th>\n",
       "      <th>STATE</th>\n",
       "      <th>COUNTY</th>\n",
       "      <th>HEALTHCARE_EXPENSES</th>\n",
       "      <th>HEALTHCARE_COVERAGE</th>\n",
       "      <th>age</th>\n",
       "    </tr>\n",
       "  </thead>\n",
       "  <tbody>\n",
       "    <tr>\n",
       "      <th>0</th>\n",
       "      <td>00185faa-2760-4218-9bf5-db301acf8274</td>\n",
       "      <td>2003-11-18</td>\n",
       "      <td>NaN</td>\n",
       "      <td>white</td>\n",
       "      <td>nonhispanic</td>\n",
       "      <td>M</td>\n",
       "      <td>Lynn</td>\n",
       "      <td>Massachusetts</td>\n",
       "      <td>Essex County</td>\n",
       "      <td>360851.05</td>\n",
       "      <td>9863.36</td>\n",
       "      <td>18</td>\n",
       "    </tr>\n",
       "    <tr>\n",
       "      <th>1</th>\n",
       "      <td>0042862c-9889-4a2e-b782-fac1e540ecb4</td>\n",
       "      <td>2009-11-26</td>\n",
       "      <td>NaN</td>\n",
       "      <td>white</td>\n",
       "      <td>nonhispanic</td>\n",
       "      <td>M</td>\n",
       "      <td>Boston</td>\n",
       "      <td>Massachusetts</td>\n",
       "      <td>Suffolk County</td>\n",
       "      <td>20006.08</td>\n",
       "      <td>1240.76</td>\n",
       "      <td>12</td>\n",
       "    </tr>\n",
       "    <tr>\n",
       "      <th>2</th>\n",
       "      <td>0047123f-12e7-486c-82df-53b3a450e365</td>\n",
       "      <td>1960-01-20</td>\n",
       "      <td>NaN</td>\n",
       "      <td>black</td>\n",
       "      <td>nonhispanic</td>\n",
       "      <td>M</td>\n",
       "      <td>Middleton</td>\n",
       "      <td>Massachusetts</td>\n",
       "      <td>Essex County</td>\n",
       "      <td>185715.36</td>\n",
       "      <td>7108.77</td>\n",
       "      <td>61</td>\n",
       "    </tr>\n",
       "    <tr>\n",
       "      <th>3</th>\n",
       "      <td>010d4a3a-2316-45ed-ae15-16f01c611674</td>\n",
       "      <td>1998-05-31</td>\n",
       "      <td>NaN</td>\n",
       "      <td>white</td>\n",
       "      <td>nonhispanic</td>\n",
       "      <td>M</td>\n",
       "      <td>Pittsfield</td>\n",
       "      <td>Massachusetts</td>\n",
       "      <td>Berkshire County</td>\n",
       "      <td>504727.10</td>\n",
       "      <td>3346.40</td>\n",
       "      <td>23</td>\n",
       "    </tr>\n",
       "    <tr>\n",
       "      <th>4</th>\n",
       "      <td>01207ecd-9dff-4754-8887-4652eda231e2</td>\n",
       "      <td>2019-05-15</td>\n",
       "      <td>NaN</td>\n",
       "      <td>white</td>\n",
       "      <td>nonhispanic</td>\n",
       "      <td>F</td>\n",
       "      <td>Colrain</td>\n",
       "      <td>Massachusetts</td>\n",
       "      <td>Franklin County</td>\n",
       "      <td>26400.00</td>\n",
       "      <td>774.96</td>\n",
       "      <td>2</td>\n",
       "    </tr>\n",
       "    <tr>\n",
       "      <th>...</th>\n",
       "      <td>...</td>\n",
       "      <td>...</td>\n",
       "      <td>...</td>\n",
       "      <td>...</td>\n",
       "      <td>...</td>\n",
       "      <td>...</td>\n",
       "      <td>...</td>\n",
       "      <td>...</td>\n",
       "      <td>...</td>\n",
       "      <td>...</td>\n",
       "      <td>...</td>\n",
       "      <td>...</td>\n",
       "    </tr>\n",
       "    <tr>\n",
       "      <th>1166</th>\n",
       "      <td>ff02f237-fedb-453b-85b1-ebfc2609c312</td>\n",
       "      <td>1999-01-09</td>\n",
       "      <td>NaN</td>\n",
       "      <td>white</td>\n",
       "      <td>nonhispanic</td>\n",
       "      <td>M</td>\n",
       "      <td>Dover</td>\n",
       "      <td>Massachusetts</td>\n",
       "      <td>Norfolk County</td>\n",
       "      <td>548297.95</td>\n",
       "      <td>2920.64</td>\n",
       "      <td>22</td>\n",
       "    </tr>\n",
       "    <tr>\n",
       "      <th>1167</th>\n",
       "      <td>ff3714ac-c7e3-4910-905e-2a321eb28144</td>\n",
       "      <td>1997-05-20</td>\n",
       "      <td>NaN</td>\n",
       "      <td>white</td>\n",
       "      <td>nonhispanic</td>\n",
       "      <td>M</td>\n",
       "      <td>Belchertown</td>\n",
       "      <td>Massachusetts</td>\n",
       "      <td>Hampshire County</td>\n",
       "      <td>530003.98</td>\n",
       "      <td>3405.56</td>\n",
       "      <td>24</td>\n",
       "    </tr>\n",
       "    <tr>\n",
       "      <th>1168</th>\n",
       "      <td>ff6948b7-3d62-4bfc-bc7d-dbb6748ed0be</td>\n",
       "      <td>1977-06-27</td>\n",
       "      <td>NaN</td>\n",
       "      <td>white</td>\n",
       "      <td>nonhispanic</td>\n",
       "      <td>F</td>\n",
       "      <td>Fall River</td>\n",
       "      <td>Massachusetts</td>\n",
       "      <td>Bristol County</td>\n",
       "      <td>994509.38</td>\n",
       "      <td>16754.77</td>\n",
       "      <td>44</td>\n",
       "    </tr>\n",
       "    <tr>\n",
       "      <th>1169</th>\n",
       "      <td>ffa37e71-fa14-4e84-ba9d-aece8d1d99f9</td>\n",
       "      <td>1966-02-11</td>\n",
       "      <td>06-01-2003</td>\n",
       "      <td>black</td>\n",
       "      <td>nonhispanic</td>\n",
       "      <td>F</td>\n",
       "      <td>Lynn</td>\n",
       "      <td>Massachusetts</td>\n",
       "      <td>Essex County</td>\n",
       "      <td>115095.69</td>\n",
       "      <td>7002.65</td>\n",
       "      <td>55</td>\n",
       "    </tr>\n",
       "    <tr>\n",
       "      <th>1170</th>\n",
       "      <td>ffcfa457-00c2-4405-9837-ac2781549c7e</td>\n",
       "      <td>2016-06-13</td>\n",
       "      <td>NaN</td>\n",
       "      <td>white</td>\n",
       "      <td>nonhispanic</td>\n",
       "      <td>M</td>\n",
       "      <td>Chicopee</td>\n",
       "      <td>Massachusetts</td>\n",
       "      <td>Hampden County</td>\n",
       "      <td>91625.62</td>\n",
       "      <td>1786.56</td>\n",
       "      <td>5</td>\n",
       "    </tr>\n",
       "  </tbody>\n",
       "</table>\n",
       "<p>1171 rows × 12 columns</p>\n",
       "</div>"
      ],
      "text/plain": [
       "                                        Id  BIRTHDATE   DEATHDATE   RACE  \\\n",
       "0     00185faa-2760-4218-9bf5-db301acf8274 2003-11-18         NaN  white   \n",
       "1     0042862c-9889-4a2e-b782-fac1e540ecb4 2009-11-26         NaN  white   \n",
       "2     0047123f-12e7-486c-82df-53b3a450e365 1960-01-20         NaN  black   \n",
       "3     010d4a3a-2316-45ed-ae15-16f01c611674 1998-05-31         NaN  white   \n",
       "4     01207ecd-9dff-4754-8887-4652eda231e2 2019-05-15         NaN  white   \n",
       "...                                    ...        ...         ...    ...   \n",
       "1166  ff02f237-fedb-453b-85b1-ebfc2609c312 1999-01-09         NaN  white   \n",
       "1167  ff3714ac-c7e3-4910-905e-2a321eb28144 1997-05-20         NaN  white   \n",
       "1168  ff6948b7-3d62-4bfc-bc7d-dbb6748ed0be 1977-06-27         NaN  white   \n",
       "1169  ffa37e71-fa14-4e84-ba9d-aece8d1d99f9 1966-02-11  06-01-2003  black   \n",
       "1170  ffcfa457-00c2-4405-9837-ac2781549c7e 2016-06-13         NaN  white   \n",
       "\n",
       "        ETHNICITY GENDER         CITY          STATE            COUNTY  \\\n",
       "0     nonhispanic      M         Lynn  Massachusetts      Essex County   \n",
       "1     nonhispanic      M       Boston  Massachusetts    Suffolk County   \n",
       "2     nonhispanic      M    Middleton  Massachusetts      Essex County   \n",
       "3     nonhispanic      M   Pittsfield  Massachusetts  Berkshire County   \n",
       "4     nonhispanic      F      Colrain  Massachusetts   Franklin County   \n",
       "...           ...    ...          ...            ...               ...   \n",
       "1166  nonhispanic      M        Dover  Massachusetts    Norfolk County   \n",
       "1167  nonhispanic      M  Belchertown  Massachusetts  Hampshire County   \n",
       "1168  nonhispanic      F   Fall River  Massachusetts    Bristol County   \n",
       "1169  nonhispanic      F         Lynn  Massachusetts      Essex County   \n",
       "1170  nonhispanic      M     Chicopee  Massachusetts    Hampden County   \n",
       "\n",
       "      HEALTHCARE_EXPENSES  HEALTHCARE_COVERAGE  age  \n",
       "0               360851.05              9863.36   18  \n",
       "1                20006.08              1240.76   12  \n",
       "2               185715.36              7108.77   61  \n",
       "3               504727.10              3346.40   23  \n",
       "4                26400.00               774.96    2  \n",
       "...                   ...                  ...  ...  \n",
       "1166            548297.95              2920.64   22  \n",
       "1167            530003.98              3405.56   24  \n",
       "1168            994509.38             16754.77   44  \n",
       "1169            115095.69              7002.65   55  \n",
       "1170             91625.62              1786.56    5  \n",
       "\n",
       "[1171 rows x 12 columns]"
      ]
     },
     "execution_count": 9,
     "metadata": {},
     "output_type": "execute_result"
    }
   ],
   "source": [
    "df_patients.drop(['FIRST', 'LAST'], axis = 1)"
   ]
  },
  {
   "cell_type": "code",
   "execution_count": 10,
   "id": "6a9fd372",
   "metadata": {
    "execution": {
     "iopub.execute_input": "2021-11-03T18:08:27.104576Z",
     "iopub.status.busy": "2021-11-03T18:08:27.103788Z",
     "iopub.status.idle": "2021-11-03T18:08:27.105368Z",
     "shell.execute_reply": "2021-11-03T18:08:27.105899Z",
     "shell.execute_reply.started": "2021-11-03T18:03:38.316064Z"
    },
    "papermill": {
     "duration": 0.049266,
     "end_time": "2021-11-03T18:08:27.106115",
     "exception": false,
     "start_time": "2021-11-03T18:08:27.056849",
     "status": "completed"
    },
    "tags": []
   },
   "outputs": [],
   "source": [
    "df_patients.ETHNICITY.unique()\n",
    "mylist = df_patients.RACE.unique()"
   ]
  },
  {
   "cell_type": "code",
   "execution_count": 11,
   "id": "e3868836",
   "metadata": {
    "execution": {
     "iopub.execute_input": "2021-11-03T18:08:27.181788Z",
     "iopub.status.busy": "2021-11-03T18:08:27.180675Z",
     "iopub.status.idle": "2021-11-03T18:08:27.186391Z",
     "shell.execute_reply": "2021-11-03T18:08:27.186992Z",
     "shell.execute_reply.started": "2021-11-03T18:03:38.333768Z"
    },
    "papermill": {
     "duration": 0.044617,
     "end_time": "2021-11-03T18:08:27.187210",
     "exception": false,
     "start_time": "2021-11-03T18:08:27.142593",
     "status": "completed"
    },
    "tags": []
   },
   "outputs": [
    {
     "data": {
      "text/plain": [
       "array(['white', 'black', 'asian', 'native', 'other'], dtype=object)"
      ]
     },
     "execution_count": 11,
     "metadata": {},
     "output_type": "execute_result"
    }
   ],
   "source": [
    "mylist"
   ]
  },
  {
   "cell_type": "code",
   "execution_count": 12,
   "id": "ddf609c6",
   "metadata": {
    "execution": {
     "iopub.execute_input": "2021-11-03T18:08:27.268320Z",
     "iopub.status.busy": "2021-11-03T18:08:27.267326Z",
     "iopub.status.idle": "2021-11-03T18:08:27.271734Z",
     "shell.execute_reply": "2021-11-03T18:08:27.271101Z",
     "shell.execute_reply.started": "2021-11-03T18:03:38.349816Z"
    },
    "papermill": {
     "duration": 0.049786,
     "end_time": "2021-11-03T18:08:27.271900",
     "exception": false,
     "start_time": "2021-11-03T18:08:27.222114",
     "status": "completed"
    },
    "tags": []
   },
   "outputs": [
    {
     "data": {
      "text/plain": [
       "F    609\n",
       "M    562\n",
       "Name: GENDER, dtype: int64"
      ]
     },
     "execution_count": 12,
     "metadata": {},
     "output_type": "execute_result"
    }
   ],
   "source": [
    "df_patients['GENDER'].value_counts()"
   ]
  },
  {
   "cell_type": "code",
   "execution_count": 13,
   "id": "46bc7734",
   "metadata": {
    "execution": {
     "iopub.execute_input": "2021-11-03T18:08:27.349153Z",
     "iopub.status.busy": "2021-11-03T18:08:27.347877Z",
     "iopub.status.idle": "2021-11-03T18:08:28.358859Z",
     "shell.execute_reply": "2021-11-03T18:08:28.359635Z",
     "shell.execute_reply.started": "2021-11-03T18:03:38.365160Z"
    },
    "papermill": {
     "duration": 1.051452,
     "end_time": "2021-11-03T18:08:28.359871",
     "exception": false,
     "start_time": "2021-11-03T18:08:27.308419",
     "status": "completed"
    },
    "tags": []
   },
   "outputs": [],
   "source": [
    "import matplotlib.pyplot as plt\n",
    "import pandas as pd\n",
    "import seaborn as sns\n"
   ]
  },
  {
   "cell_type": "code",
   "execution_count": 14,
   "id": "f0521095",
   "metadata": {
    "execution": {
     "iopub.execute_input": "2021-11-03T18:08:28.441902Z",
     "iopub.status.busy": "2021-11-03T18:08:28.441013Z",
     "iopub.status.idle": "2021-11-03T18:08:28.733684Z",
     "shell.execute_reply": "2021-11-03T18:08:28.733000Z",
     "shell.execute_reply.started": "2021-11-03T18:03:38.378190Z"
    },
    "papermill": {
     "duration": 0.336574,
     "end_time": "2021-11-03T18:08:28.733848",
     "exception": false,
     "start_time": "2021-11-03T18:08:28.397274",
     "status": "completed"
    },
    "tags": []
   },
   "outputs": [
    {
     "data": {
      "text/plain": [
       "Text(0, 0.5, 'Count of People')"
      ]
     },
     "execution_count": 14,
     "metadata": {},
     "output_type": "execute_result"
    },
    {
     "data": {
      "image/png": "[encoded data removed]",
      "text/plain": [
       "<Figure size 504x432 with 1 Axes>"
      ]
     },
     "metadata": {},
     "output_type": "display_data"
    }
   ],
   "source": [
    "sns.set(font_scale=1.4)\n",
    "df_patients['GENDER'].value_counts().plot(kind='bar', figsize=(7, 6), rot=0)\n",
    "plt.xlabel(\"Gender\", labelpad=14)\n",
    "plt.ylabel(\"Count of People\", labelpad=14)\n"
   ]
  },
  {
   "cell_type": "code",
   "execution_count": 15,
   "id": "bfc1dd21",
   "metadata": {
    "execution": {
     "iopub.execute_input": "2021-11-03T18:08:28.816613Z",
     "iopub.status.busy": "2021-11-03T18:08:28.815778Z",
     "iopub.status.idle": "2021-11-03T18:08:29.206811Z",
     "shell.execute_reply": "2021-11-03T18:08:29.207440Z",
     "shell.execute_reply.started": "2021-11-03T18:03:38.643331Z"
    },
    "papermill": {
     "duration": 0.437032,
     "end_time": "2021-11-03T18:08:29.207647",
     "exception": false,
     "start_time": "2021-11-03T18:08:28.770615",
     "status": "completed"
    },
    "tags": []
   },
   "outputs": [
    {
     "data": {
      "text/plain": [
       "Text(0, 0.5, 'Count of People')"
      ]
     },
     "execution_count": 15,
     "metadata": {},
     "output_type": "execute_result"
    },
    {
     "data": {
      "image/png": "[encoded data removed]",
      "text/plain": [
       "<Figure size 504x432 with 1 Axes>"
      ]
     },
     "metadata": {},
     "output_type": "display_data"
    }
   ],
   "source": [
    "sns.set(font_scale=1.4)\n",
    "df_patients['ETHNICITY'].value_counts().plot(kind='bar', figsize=(7, 6), rot=0)\n",
    "plt.xlabel(\"Ethnicity\", labelpad=14)\n",
    "plt.ylabel(\"Count of People\", labelpad=14)\n"
   ]
  },
  {
   "cell_type": "code",
   "execution_count": 16,
   "id": "ab033f24",
   "metadata": {
    "execution": {
     "iopub.execute_input": "2021-11-03T18:08:29.293925Z",
     "iopub.status.busy": "2021-11-03T18:08:29.292922Z",
     "iopub.status.idle": "2021-11-03T18:08:29.296673Z",
     "shell.execute_reply": "2021-11-03T18:08:29.297219Z",
     "shell.execute_reply.started": "2021-11-03T18:03:38.898209Z"
    },
    "papermill": {
     "duration": 0.050985,
     "end_time": "2021-11-03T18:08:29.297427",
     "exception": false,
     "start_time": "2021-11-03T18:08:29.246442",
     "status": "completed"
    },
    "tags": []
   },
   "outputs": [
    {
     "data": {
      "text/plain": [
       "white     965\n",
       "black     101\n",
       "asian      90\n",
       "native     13\n",
       "other       2\n",
       "Name: RACE, dtype: int64"
      ]
     },
     "execution_count": 16,
     "metadata": {},
     "output_type": "execute_result"
    }
   ],
   "source": [
    "df_patients['RACE'].value_counts()"
   ]
  },
  {
   "cell_type": "code",
   "execution_count": 17,
   "id": "1b27c50e",
   "metadata": {
    "execution": {
     "iopub.execute_input": "2021-11-03T18:08:29.377280Z",
     "iopub.status.busy": "2021-11-03T18:08:29.376158Z",
     "iopub.status.idle": "2021-11-03T18:08:29.498307Z",
     "shell.execute_reply": "2021-11-03T18:08:29.498907Z",
     "shell.execute_reply.started": "2021-11-03T18:03:38.911164Z"
    },
    "papermill": {
     "duration": 0.163991,
     "end_time": "2021-11-03T18:08:29.499125",
     "exception": false,
     "start_time": "2021-11-03T18:08:29.335134",
     "status": "completed"
    },
    "tags": []
   },
   "outputs": [
    {
     "data": {
      "image/png": "[encoded data removed]",
      "text/plain": [
       "<Figure size 432x288 with 1 Axes>"
      ]
     },
     "metadata": {},
     "output_type": "display_data"
    }
   ],
   "source": [
    "race = ['white', 'black', 'asian', \n",
    "        'native', 'other'] \n",
    "\n",
    "data = [965, 101, 90, 13, 2] \n",
    "\n",
    "plt.pie(data, labels = mylist,colors = ['#F0F8FF','#E6E6FA','#B0E0E6','#7B68EE','#483D8B'])\n",
    "\n",
    "plt.title('Race')\n",
    "#Show the plot\n",
    "plt.show()"
   ]
  },
  {
   "cell_type": "code",
   "execution_count": 18,
   "id": "3bdc30e1",
   "metadata": {
    "execution": {
     "iopub.execute_input": "2021-11-03T18:08:29.585747Z",
     "iopub.status.busy": "2021-11-03T18:08:29.584962Z",
     "iopub.status.idle": "2021-11-03T18:08:29.590468Z",
     "shell.execute_reply": "2021-11-03T18:08:29.591031Z",
     "shell.execute_reply.started": "2021-11-03T18:03:39.039216Z"
    },
    "papermill": {
     "duration": 0.05222,
     "end_time": "2021-11-03T18:08:29.591267",
     "exception": false,
     "start_time": "2021-11-03T18:08:29.539047",
     "status": "completed"
    },
    "tags": []
   },
   "outputs": [
    {
     "data": {
      "text/plain": [
       "array(['Lynn', 'Boston', 'Middleton', 'Pittsfield', 'Colrain',\n",
       "       'Northborough', 'Cambridge', 'Williamstown', 'Chatham', 'Gardner',\n",
       "       'Somerville', 'Winchester', 'Norwood', 'Danvers', 'Weymouth',\n",
       "       'Leverett', 'Southbridge', 'Southborough', 'Chicopee',\n",
       "       'Longmeadow', 'Lowell', 'Hampden', 'Uxbridge', 'Haverhill',\n",
       "       'Boxford', 'South Hadley', 'Northbridge', 'Holyoke', 'Braintree',\n",
       "       'Worthington', 'Attleboro', 'Fitchburg', 'Carver', 'Wilmington',\n",
       "       'Worcester', 'Lawrence', 'Gloucester', 'Waltham', 'Brockton',\n",
       "       'New Bedford', 'Fall River', 'Sheffield', 'Sharon', 'Somerset',\n",
       "       'Taunton', 'Methuen', 'Yarmouth', 'Salem', 'Franklin', 'Scituate',\n",
       "       'Malden', 'Plymouth', 'Hanover', 'Westford', 'West Tisbury',\n",
       "       'Webster', 'Falmouth', 'Wareham', 'Groveland', 'Barnstable',\n",
       "       'Carlisle', 'Wayland', 'Halifax', 'New Ashford', 'Woburn',\n",
       "       'Springfield', 'Natick', 'Athol', 'Norton', 'Revere',\n",
       "       'Belchertown', 'Quincy', 'Fairhaven', 'Ayer', 'Canton', 'Newton',\n",
       "       'Milton', 'Melrose', 'Norwell', 'Milford', 'Hanson', 'Billerica',\n",
       "       'Middleborough', 'Tewksbury', 'Hingham', 'Southampton',\n",
       "       'Blackstone', 'Beverly', 'Marlborough', 'Framingham', 'Southwick',\n",
       "       'Raynham', 'Newburyport', 'Sudbury', 'Reading', 'Brookline',\n",
       "       'Hatfield', 'Chelsea', 'Westport', 'Millville', 'Swansea',\n",
       "       'Amherst', 'Agawam', 'East Longmeadow', 'Lunenburg', 'Brewster',\n",
       "       'Ware', 'Hopedale', 'Mansfield', 'Marblehead', 'Williamsburg',\n",
       "       'West Springfield', 'Shrewsbury', 'Adams', 'Burlington',\n",
       "       'Stoneham', 'Saugus', 'Foxborough', 'Dartmouth', 'Salisbury',\n",
       "       'Acton', 'Rochester', 'Leicester', 'Orange', 'Concord',\n",
       "       'Wilbraham', 'Easthampton', 'Clinton', 'Ipswich', 'Cohasset',\n",
       "       'Auburn', 'Acushnet', 'Rehoboth', 'Seekonk', 'Stoughton', 'Dennis',\n",
       "       'Rockland', 'Walpole', 'Dudley', 'Provincetown', 'Westfield',\n",
       "       'Winchendon', 'Bridgewater', 'Peabody', 'Warren', 'Medway',\n",
       "       'Watertown', 'North Reading', 'Westminster', 'Abington',\n",
       "       'North Adams', 'Grafton', 'Wrentham', 'Gill', 'Kingston',\n",
       "       'Bellingham', 'Winthrop', 'North Brookfield', 'Belmont',\n",
       "       'Bernardston', 'Chelmsford', 'Weston', 'Arlington', 'Greenfield',\n",
       "       'Wakefield', 'Dover', 'Marshfield', 'Randolph', 'Leominster',\n",
       "       'Great Barrington', 'Holbrook', 'North Andover', 'Medford',\n",
       "       'Palmer', 'Eastham', 'Wellfleet', 'Bourne', 'Ashland', 'Nantucket',\n",
       "       'Westborough', 'Needham', 'Manchester-by-the-Sea', 'Montague',\n",
       "       'Millis', 'Avon', 'Cheshire', 'Stow', 'North Attleborough',\n",
       "       'Rockport', 'Everett', 'Medfield', 'Holland', 'Essex', 'Lancaster',\n",
       "       'Sandwich', 'Norfolk', 'Plainville', 'Hamilton', 'Maynard',\n",
       "       'Wellesley', 'Amesbury', 'East Brookfield', 'Pembroke',\n",
       "       'Littleton', 'Hudson', 'Holden', 'Swampscott', 'Lenox', 'Spencer',\n",
       "       'Lynnfield', 'Deerfield', 'Duxbury', 'Lakeville', 'Freetown',\n",
       "       'Lexington', 'Rutland', 'Tyngsborough', 'Hopkinton', 'Shirley',\n",
       "       'Andover', 'Leyden', 'Dedham', 'Millbury', 'Easton',\n",
       "       'Mattapoisett', 'Holliston', 'Chester', 'Douglas', 'Harwich',\n",
       "       'Ashburnham', 'Upton', 'Phillipston', 'Oxford', 'Dalton',\n",
       "       'East Bridgewater', 'Northampton', 'Mashpee'], dtype=object)"
      ]
     },
     "execution_count": 18,
     "metadata": {},
     "output_type": "execute_result"
    }
   ],
   "source": [
    "state=df_patients.CITY.unique()\n",
    "data=df_patients['CITY'].value_counts()\n",
    "state"
   ]
  },
  {
   "cell_type": "code",
   "execution_count": 19,
   "id": "8333bb0a",
   "metadata": {
    "execution": {
     "iopub.execute_input": "2021-11-03T18:08:29.675168Z",
     "iopub.status.busy": "2021-11-03T18:08:29.674405Z",
     "iopub.status.idle": "2021-11-03T18:08:29.772435Z",
     "shell.execute_reply": "2021-11-03T18:08:29.771714Z",
     "shell.execute_reply.started": "2021-11-03T18:03:39.051939Z"
    },
    "papermill": {
     "duration": 0.141858,
     "end_time": "2021-11-03T18:08:29.772613",
     "exception": false,
     "start_time": "2021-11-03T18:08:29.630755",
     "status": "completed"
    },
    "tags": []
   },
   "outputs": [
    {
     "data": {
      "text/html": [
       "<div>\n",
       "<style scoped>\n",
       "    .dataframe tbody tr th:only-of-type {\n",
       "        vertical-align: middle;\n",
       "    }\n",
       "\n",
       "    .dataframe tbody tr th {\n",
       "        vertical-align: top;\n",
       "    }\n",
       "\n",
       "    .dataframe thead th {\n",
       "        text-align: right;\n",
       "    }\n",
       "</style>\n",
       "<table border=\"1\" class=\"dataframe\">\n",
       "  <thead>\n",
       "    <tr style=\"text-align: right;\">\n",
       "      <th></th>\n",
       "      <th>START</th>\n",
       "      <th>STOP</th>\n",
       "      <th>PATIENT</th>\n",
       "      <th>ENCOUNTER</th>\n",
       "      <th>CODE</th>\n",
       "      <th>DESCRIPTION</th>\n",
       "    </tr>\n",
       "  </thead>\n",
       "  <tbody>\n",
       "    <tr>\n",
       "      <th>0</th>\n",
       "      <td>03-08-2012</td>\n",
       "      <td>11-08-2012</td>\n",
       "      <td>00185faa-2760-4218-9bf5-db301acf8274</td>\n",
       "      <td>187f0326-5342-4b78-8818-db5418f9300b</td>\n",
       "      <td>1.956620e+08</td>\n",
       "      <td>Acute viral pharyngitis (disorder)</td>\n",
       "    </tr>\n",
       "    <tr>\n",
       "      <th>1</th>\n",
       "      <td>14-10-2012</td>\n",
       "      <td>25-10-2012</td>\n",
       "      <td>00185faa-2760-4218-9bf5-db301acf8274</td>\n",
       "      <td>ce150f69-e3a6-4793-95b6-243f754723c3</td>\n",
       "      <td>4.387801e+07</td>\n",
       "      <td>Streptococcal sore throat (disorder)</td>\n",
       "    </tr>\n",
       "    <tr>\n",
       "      <th>2</th>\n",
       "      <td>21-12-2017</td>\n",
       "      <td>NaN</td>\n",
       "      <td>00185faa-2760-4218-9bf5-db301acf8274</td>\n",
       "      <td>c28636e9-9b93-4e2f-807f-db90b4ada4f7</td>\n",
       "      <td>8.242300e+07</td>\n",
       "      <td>Chronic pain</td>\n",
       "    </tr>\n",
       "    <tr>\n",
       "      <th>3</th>\n",
       "      <td>18-10-2018</td>\n",
       "      <td>NaN</td>\n",
       "      <td>00185faa-2760-4218-9bf5-db301acf8274</td>\n",
       "      <td>c5220bb1-f4ea-4e8f-9c8c-bcf3f8bc073b</td>\n",
       "      <td>1.241710e+14</td>\n",
       "      <td>Chronic intractable migraine without aura</td>\n",
       "    </tr>\n",
       "    <tr>\n",
       "      <th>4</th>\n",
       "      <td>07-09-2019</td>\n",
       "      <td>NaN</td>\n",
       "      <td>00185faa-2760-4218-9bf5-db301acf8274</td>\n",
       "      <td>e8830400-b09d-46f3-a764-b8faeb51ab3b</td>\n",
       "      <td>1.964160e+08</td>\n",
       "      <td>Impacted molars</td>\n",
       "    </tr>\n",
       "  </tbody>\n",
       "</table>\n",
       "</div>"
      ],
      "text/plain": [
       "        START        STOP                               PATIENT  \\\n",
       "0  03-08-2012  11-08-2012  00185faa-2760-4218-9bf5-db301acf8274   \n",
       "1  14-10-2012  25-10-2012  00185faa-2760-4218-9bf5-db301acf8274   \n",
       "2  21-12-2017         NaN  00185faa-2760-4218-9bf5-db301acf8274   \n",
       "3  18-10-2018         NaN  00185faa-2760-4218-9bf5-db301acf8274   \n",
       "4  07-09-2019         NaN  00185faa-2760-4218-9bf5-db301acf8274   \n",
       "\n",
       "                              ENCOUNTER          CODE  \\\n",
       "0  187f0326-5342-4b78-8818-db5418f9300b  1.956620e+08   \n",
       "1  ce150f69-e3a6-4793-95b6-243f754723c3  4.387801e+07   \n",
       "2  c28636e9-9b93-4e2f-807f-db90b4ada4f7  8.242300e+07   \n",
       "3  c5220bb1-f4ea-4e8f-9c8c-bcf3f8bc073b  1.241710e+14   \n",
       "4  e8830400-b09d-46f3-a764-b8faeb51ab3b  1.964160e+08   \n",
       "\n",
       "                                 DESCRIPTION  \n",
       "0         Acute viral pharyngitis (disorder)  \n",
       "1       Streptococcal sore throat (disorder)  \n",
       "2                               Chronic pain  \n",
       "3  Chronic intractable migraine without aura  \n",
       "4                            Impacted molars  "
      ]
     },
     "execution_count": 19,
     "metadata": {},
     "output_type": "execute_result"
    }
   ],
   "source": [
    "df_con=pd.read_csv('../input/dataoptum/conditions.csv')\n",
    "df_con.head()"
   ]
  },
  {
   "cell_type": "code",
   "execution_count": 20,
   "id": "933ecb2e",
   "metadata": {
    "execution": {
     "iopub.execute_input": "2021-11-03T18:08:29.858940Z",
     "iopub.status.busy": "2021-11-03T18:08:29.858103Z",
     "iopub.status.idle": "2021-11-03T18:08:29.863834Z",
     "shell.execute_reply": "2021-11-03T18:08:29.864416Z",
     "shell.execute_reply.started": "2021-11-03T18:03:39.094811Z"
    },
    "papermill": {
     "duration": 0.049699,
     "end_time": "2021-11-03T18:08:29.864624",
     "exception": false,
     "start_time": "2021-11-03T18:08:29.814925",
     "status": "completed"
    },
    "tags": []
   },
   "outputs": [
    {
     "data": {
      "text/plain": [
       "(8376, 6)"
      ]
     },
     "execution_count": 20,
     "metadata": {},
     "output_type": "execute_result"
    }
   ],
   "source": [
    "df_con.shape"
   ]
  },
  {
   "cell_type": "code",
   "execution_count": 21,
   "id": "be7d3de9",
   "metadata": {
    "execution": {
     "iopub.execute_input": "2021-11-03T18:08:29.952600Z",
     "iopub.status.busy": "2021-11-03T18:08:29.951851Z",
     "iopub.status.idle": "2021-11-03T18:08:29.968796Z",
     "shell.execute_reply": "2021-11-03T18:08:29.969401Z",
     "shell.execute_reply.started": "2021-11-03T18:03:39.102137Z"
    },
    "papermill": {
     "duration": 0.06379,
     "end_time": "2021-11-03T18:08:29.969636",
     "exception": false,
     "start_time": "2021-11-03T18:08:29.905846",
     "status": "completed"
    },
    "tags": []
   },
   "outputs": [
    {
     "data": {
      "text/html": [
       "<div>\n",
       "<style scoped>\n",
       "    .dataframe tbody tr th:only-of-type {\n",
       "        vertical-align: middle;\n",
       "    }\n",
       "\n",
       "    .dataframe tbody tr th {\n",
       "        vertical-align: top;\n",
       "    }\n",
       "\n",
       "    .dataframe thead th {\n",
       "        text-align: right;\n",
       "    }\n",
       "</style>\n",
       "<table border=\"1\" class=\"dataframe\">\n",
       "  <thead>\n",
       "    <tr style=\"text-align: right;\">\n",
       "      <th></th>\n",
       "      <th>START</th>\n",
       "      <th>STOP</th>\n",
       "      <th>PATIENT</th>\n",
       "      <th>ENCOUNTER</th>\n",
       "      <th>DESCRIPTION</th>\n",
       "    </tr>\n",
       "  </thead>\n",
       "  <tbody>\n",
       "    <tr>\n",
       "      <th>0</th>\n",
       "      <td>03-08-2012</td>\n",
       "      <td>11-08-2012</td>\n",
       "      <td>00185faa-2760-4218-9bf5-db301acf8274</td>\n",
       "      <td>187f0326-5342-4b78-8818-db5418f9300b</td>\n",
       "      <td>Acute viral pharyngitis (disorder)</td>\n",
       "    </tr>\n",
       "    <tr>\n",
       "      <th>1</th>\n",
       "      <td>14-10-2012</td>\n",
       "      <td>25-10-2012</td>\n",
       "      <td>00185faa-2760-4218-9bf5-db301acf8274</td>\n",
       "      <td>ce150f69-e3a6-4793-95b6-243f754723c3</td>\n",
       "      <td>Streptococcal sore throat (disorder)</td>\n",
       "    </tr>\n",
       "    <tr>\n",
       "      <th>2</th>\n",
       "      <td>21-12-2017</td>\n",
       "      <td>NaN</td>\n",
       "      <td>00185faa-2760-4218-9bf5-db301acf8274</td>\n",
       "      <td>c28636e9-9b93-4e2f-807f-db90b4ada4f7</td>\n",
       "      <td>Chronic pain</td>\n",
       "    </tr>\n",
       "    <tr>\n",
       "      <th>3</th>\n",
       "      <td>18-10-2018</td>\n",
       "      <td>NaN</td>\n",
       "      <td>00185faa-2760-4218-9bf5-db301acf8274</td>\n",
       "      <td>c5220bb1-f4ea-4e8f-9c8c-bcf3f8bc073b</td>\n",
       "      <td>Chronic intractable migraine without aura</td>\n",
       "    </tr>\n",
       "    <tr>\n",
       "      <th>4</th>\n",
       "      <td>07-09-2019</td>\n",
       "      <td>NaN</td>\n",
       "      <td>00185faa-2760-4218-9bf5-db301acf8274</td>\n",
       "      <td>e8830400-b09d-46f3-a764-b8faeb51ab3b</td>\n",
       "      <td>Impacted molars</td>\n",
       "    </tr>\n",
       "    <tr>\n",
       "      <th>...</th>\n",
       "      <td>...</td>\n",
       "      <td>...</td>\n",
       "      <td>...</td>\n",
       "      <td>...</td>\n",
       "      <td>...</td>\n",
       "    </tr>\n",
       "    <tr>\n",
       "      <th>8371</th>\n",
       "      <td>09-06-2017</td>\n",
       "      <td>22-06-2017</td>\n",
       "      <td>ffcfa457-00c2-4405-9837-ac2781549c7e</td>\n",
       "      <td>7990f1f2-c931-4096-9141-bcbd52cd21df</td>\n",
       "      <td>Acute viral pharyngitis (disorder)</td>\n",
       "    </tr>\n",
       "    <tr>\n",
       "      <th>8372</th>\n",
       "      <td>06-05-2018</td>\n",
       "      <td>13-05-2018</td>\n",
       "      <td>ffcfa457-00c2-4405-9837-ac2781549c7e</td>\n",
       "      <td>ac3c0ad1-2e61-451a-a3a2-eaaca34f8283</td>\n",
       "      <td>Acute bronchitis (disorder)</td>\n",
       "    </tr>\n",
       "    <tr>\n",
       "      <th>8373</th>\n",
       "      <td>30-12-2018</td>\n",
       "      <td>20-01-2019</td>\n",
       "      <td>ffcfa457-00c2-4405-9837-ac2781549c7e</td>\n",
       "      <td>1c2c884f-491f-4df8-93c4-e5249b26650e</td>\n",
       "      <td>Sprain of wrist</td>\n",
       "    </tr>\n",
       "    <tr>\n",
       "      <th>8374</th>\n",
       "      <td>28-02-2019</td>\n",
       "      <td>20-05-2019</td>\n",
       "      <td>ffcfa457-00c2-4405-9837-ac2781549c7e</td>\n",
       "      <td>68424c9d-6978-4e7e-9cc2-1a585bfee43d</td>\n",
       "      <td>Otitis media</td>\n",
       "    </tr>\n",
       "    <tr>\n",
       "      <th>8375</th>\n",
       "      <td>08-04-2019</td>\n",
       "      <td>15-04-2019</td>\n",
       "      <td>ffcfa457-00c2-4405-9837-ac2781549c7e</td>\n",
       "      <td>700be7cc-7119-482b-a53c-a2bcc7b752bd</td>\n",
       "      <td>Viral sinusitis (disorder)</td>\n",
       "    </tr>\n",
       "  </tbody>\n",
       "</table>\n",
       "<p>8376 rows × 5 columns</p>\n",
       "</div>"
      ],
      "text/plain": [
       "           START        STOP                               PATIENT  \\\n",
       "0     03-08-2012  11-08-2012  00185faa-2760-4218-9bf5-db301acf8274   \n",
       "1     14-10-2012  25-10-2012  00185faa-2760-4218-9bf5-db301acf8274   \n",
       "2     21-12-2017         NaN  00185faa-2760-4218-9bf5-db301acf8274   \n",
       "3     18-10-2018         NaN  00185faa-2760-4218-9bf5-db301acf8274   \n",
       "4     07-09-2019         NaN  00185faa-2760-4218-9bf5-db301acf8274   \n",
       "...          ...         ...                                   ...   \n",
       "8371  09-06-2017  22-06-2017  ffcfa457-00c2-4405-9837-ac2781549c7e   \n",
       "8372  06-05-2018  13-05-2018  ffcfa457-00c2-4405-9837-ac2781549c7e   \n",
       "8373  30-12-2018  20-01-2019  ffcfa457-00c2-4405-9837-ac2781549c7e   \n",
       "8374  28-02-2019  20-05-2019  ffcfa457-00c2-4405-9837-ac2781549c7e   \n",
       "8375  08-04-2019  15-04-2019  ffcfa457-00c2-4405-9837-ac2781549c7e   \n",
       "\n",
       "                                 ENCOUNTER  \\\n",
       "0     187f0326-5342-4b78-8818-db5418f9300b   \n",
       "1     ce150f69-e3a6-4793-95b6-243f754723c3   \n",
       "2     c28636e9-9b93-4e2f-807f-db90b4ada4f7   \n",
       "3     c5220bb1-f4ea-4e8f-9c8c-bcf3f8bc073b   \n",
       "4     e8830400-b09d-46f3-a764-b8faeb51ab3b   \n",
       "...                                    ...   \n",
       "8371  7990f1f2-c931-4096-9141-bcbd52cd21df   \n",
       "8372  ac3c0ad1-2e61-451a-a3a2-eaaca34f8283   \n",
       "8373  1c2c884f-491f-4df8-93c4-e5249b26650e   \n",
       "8374  68424c9d-6978-4e7e-9cc2-1a585bfee43d   \n",
       "8375  700be7cc-7119-482b-a53c-a2bcc7b752bd   \n",
       "\n",
       "                                    DESCRIPTION  \n",
       "0            Acute viral pharyngitis (disorder)  \n",
       "1          Streptococcal sore throat (disorder)  \n",
       "2                                  Chronic pain  \n",
       "3     Chronic intractable migraine without aura  \n",
       "4                               Impacted molars  \n",
       "...                                         ...  \n",
       "8371         Acute viral pharyngitis (disorder)  \n",
       "8372                Acute bronchitis (disorder)  \n",
       "8373                            Sprain of wrist  \n",
       "8374                               Otitis media  \n",
       "8375                 Viral sinusitis (disorder)  \n",
       "\n",
       "[8376 rows x 5 columns]"
      ]
     },
     "execution_count": 21,
     "metadata": {},
     "output_type": "execute_result"
    }
   ],
   "source": [
    "df_con.drop('CODE', axis='columns')"
   ]
  },
  {
   "cell_type": "code",
   "execution_count": 22,
   "id": "6e3a60df",
   "metadata": {
    "execution": {
     "iopub.execute_input": "2021-11-03T18:08:30.064397Z",
     "iopub.status.busy": "2021-11-03T18:08:30.063677Z",
     "iopub.status.idle": "2021-11-03T18:08:30.071778Z",
     "shell.execute_reply": "2021-11-03T18:08:30.070987Z",
     "shell.execute_reply.started": "2021-11-03T18:03:39.126639Z"
    },
    "papermill": {
     "duration": 0.052221,
     "end_time": "2021-11-03T18:08:30.071948",
     "exception": false,
     "start_time": "2021-11-03T18:08:30.019727",
     "status": "completed"
    },
    "tags": []
   },
   "outputs": [],
   "source": [
    "df_con['STOP'] = df_con['STOP'].fillna(0)"
   ]
  },
  {
   "cell_type": "code",
   "execution_count": 23,
   "id": "62945afc",
   "metadata": {
    "execution": {
     "iopub.execute_input": "2021-11-03T18:08:30.169139Z",
     "iopub.status.busy": "2021-11-03T18:08:30.168327Z",
     "iopub.status.idle": "2021-11-03T18:08:30.172551Z",
     "shell.execute_reply": "2021-11-03T18:08:30.173023Z",
     "shell.execute_reply.started": "2021-11-03T18:03:39.137703Z"
    },
    "papermill": {
     "duration": 0.06079,
     "end_time": "2021-11-03T18:08:30.173274",
     "exception": false,
     "start_time": "2021-11-03T18:08:30.112484",
     "status": "completed"
    },
    "tags": []
   },
   "outputs": [
    {
     "data": {
      "text/html": [
       "<div>\n",
       "<style scoped>\n",
       "    .dataframe tbody tr th:only-of-type {\n",
       "        vertical-align: middle;\n",
       "    }\n",
       "\n",
       "    .dataframe tbody tr th {\n",
       "        vertical-align: top;\n",
       "    }\n",
       "\n",
       "    .dataframe thead th {\n",
       "        text-align: right;\n",
       "    }\n",
       "</style>\n",
       "<table border=\"1\" class=\"dataframe\">\n",
       "  <thead>\n",
       "    <tr style=\"text-align: right;\">\n",
       "      <th></th>\n",
       "      <th>START</th>\n",
       "      <th>STOP</th>\n",
       "      <th>PATIENT</th>\n",
       "      <th>ENCOUNTER</th>\n",
       "      <th>CODE</th>\n",
       "      <th>DESCRIPTION</th>\n",
       "    </tr>\n",
       "  </thead>\n",
       "  <tbody>\n",
       "    <tr>\n",
       "      <th>0</th>\n",
       "      <td>03-08-2012</td>\n",
       "      <td>11-08-2012</td>\n",
       "      <td>00185faa-2760-4218-9bf5-db301acf8274</td>\n",
       "      <td>187f0326-5342-4b78-8818-db5418f9300b</td>\n",
       "      <td>1.956620e+08</td>\n",
       "      <td>Acute viral pharyngitis (disorder)</td>\n",
       "    </tr>\n",
       "    <tr>\n",
       "      <th>1</th>\n",
       "      <td>14-10-2012</td>\n",
       "      <td>25-10-2012</td>\n",
       "      <td>00185faa-2760-4218-9bf5-db301acf8274</td>\n",
       "      <td>ce150f69-e3a6-4793-95b6-243f754723c3</td>\n",
       "      <td>4.387801e+07</td>\n",
       "      <td>Streptococcal sore throat (disorder)</td>\n",
       "    </tr>\n",
       "    <tr>\n",
       "      <th>2</th>\n",
       "      <td>21-12-2017</td>\n",
       "      <td>0</td>\n",
       "      <td>00185faa-2760-4218-9bf5-db301acf8274</td>\n",
       "      <td>c28636e9-9b93-4e2f-807f-db90b4ada4f7</td>\n",
       "      <td>8.242300e+07</td>\n",
       "      <td>Chronic pain</td>\n",
       "    </tr>\n",
       "    <tr>\n",
       "      <th>3</th>\n",
       "      <td>18-10-2018</td>\n",
       "      <td>0</td>\n",
       "      <td>00185faa-2760-4218-9bf5-db301acf8274</td>\n",
       "      <td>c5220bb1-f4ea-4e8f-9c8c-bcf3f8bc073b</td>\n",
       "      <td>1.241710e+14</td>\n",
       "      <td>Chronic intractable migraine without aura</td>\n",
       "    </tr>\n",
       "    <tr>\n",
       "      <th>4</th>\n",
       "      <td>07-09-2019</td>\n",
       "      <td>0</td>\n",
       "      <td>00185faa-2760-4218-9bf5-db301acf8274</td>\n",
       "      <td>e8830400-b09d-46f3-a764-b8faeb51ab3b</td>\n",
       "      <td>1.964160e+08</td>\n",
       "      <td>Impacted molars</td>\n",
       "    </tr>\n",
       "  </tbody>\n",
       "</table>\n",
       "</div>"
      ],
      "text/plain": [
       "        START        STOP                               PATIENT  \\\n",
       "0  03-08-2012  11-08-2012  00185faa-2760-4218-9bf5-db301acf8274   \n",
       "1  14-10-2012  25-10-2012  00185faa-2760-4218-9bf5-db301acf8274   \n",
       "2  21-12-2017           0  00185faa-2760-4218-9bf5-db301acf8274   \n",
       "3  18-10-2018           0  00185faa-2760-4218-9bf5-db301acf8274   \n",
       "4  07-09-2019           0  00185faa-2760-4218-9bf5-db301acf8274   \n",
       "\n",
       "                              ENCOUNTER          CODE  \\\n",
       "0  187f0326-5342-4b78-8818-db5418f9300b  1.956620e+08   \n",
       "1  ce150f69-e3a6-4793-95b6-243f754723c3  4.387801e+07   \n",
       "2  c28636e9-9b93-4e2f-807f-db90b4ada4f7  8.242300e+07   \n",
       "3  c5220bb1-f4ea-4e8f-9c8c-bcf3f8bc073b  1.241710e+14   \n",
       "4  e8830400-b09d-46f3-a764-b8faeb51ab3b  1.964160e+08   \n",
       "\n",
       "                                 DESCRIPTION  \n",
       "0         Acute viral pharyngitis (disorder)  \n",
       "1       Streptococcal sore throat (disorder)  \n",
       "2                               Chronic pain  \n",
       "3  Chronic intractable migraine without aura  \n",
       "4                            Impacted molars  "
      ]
     },
     "execution_count": 23,
     "metadata": {},
     "output_type": "execute_result"
    }
   ],
   "source": [
    "df_con.head()"
   ]
  },
  {
   "cell_type": "code",
   "execution_count": 24,
   "id": "036265d3",
   "metadata": {
    "execution": {
     "iopub.execute_input": "2021-11-03T18:08:30.265063Z",
     "iopub.status.busy": "2021-11-03T18:08:30.264338Z",
     "iopub.status.idle": "2021-11-03T18:08:30.266477Z",
     "shell.execute_reply": "2021-11-03T18:08:30.267091Z",
     "shell.execute_reply.started": "2021-11-03T18:03:39.158857Z"
    },
    "papermill": {
     "duration": 0.052811,
     "end_time": "2021-11-03T18:08:30.267320",
     "exception": false,
     "start_time": "2021-11-03T18:08:30.214509",
     "status": "completed"
    },
    "tags": []
   },
   "outputs": [],
   "source": [
    "list_my=[]\n",
    "for x in df_con['STOP']:\n",
    "    if(x==0):\n",
    "        list_my.append(0)\n",
    "    else:\n",
    "        list_my.append(1)"
   ]
  },
  {
   "cell_type": "code",
   "execution_count": 25,
   "id": "503a7230",
   "metadata": {
    "execution": {
     "iopub.execute_input": "2021-11-03T18:08:30.353569Z",
     "iopub.status.busy": "2021-11-03T18:08:30.352838Z",
     "iopub.status.idle": "2021-11-03T18:08:30.369105Z",
     "shell.execute_reply": "2021-11-03T18:08:30.368430Z",
     "shell.execute_reply.started": "2021-11-03T18:03:39.171593Z"
    },
    "papermill": {
     "duration": 0.060642,
     "end_time": "2021-11-03T18:08:30.369335",
     "exception": false,
     "start_time": "2021-11-03T18:08:30.308693",
     "status": "completed"
    },
    "tags": []
   },
   "outputs": [],
   "source": [
    "list2=[]\n",
    "for i in range(8376):\n",
    "    list2.append(1)\n",
    "df_con['SCORE']=list_my\n",
    "df_con['COUNT']=list2"
   ]
  },
  {
   "cell_type": "code",
   "execution_count": 26,
   "id": "22fa0540",
   "metadata": {
    "execution": {
     "iopub.execute_input": "2021-11-03T18:08:30.553543Z",
     "iopub.status.busy": "2021-11-03T18:08:30.552726Z",
     "iopub.status.idle": "2021-11-03T18:08:30.557036Z",
     "shell.execute_reply": "2021-11-03T18:08:30.556476Z",
     "shell.execute_reply.started": "2021-11-03T18:03:39.192785Z"
    },
    "papermill": {
     "duration": 0.146234,
     "end_time": "2021-11-03T18:08:30.557225",
     "exception": false,
     "start_time": "2021-11-03T18:08:30.410991",
     "status": "completed"
    },
    "tags": []
   },
   "outputs": [
    {
     "data": {
      "text/html": [
       "<div>\n",
       "<style scoped>\n",
       "    .dataframe tbody tr th:only-of-type {\n",
       "        vertical-align: middle;\n",
       "    }\n",
       "\n",
       "    .dataframe tbody tr th {\n",
       "        vertical-align: top;\n",
       "    }\n",
       "\n",
       "    .dataframe thead th {\n",
       "        text-align: right;\n",
       "    }\n",
       "</style>\n",
       "<table border=\"1\" class=\"dataframe\">\n",
       "  <thead>\n",
       "    <tr style=\"text-align: right;\">\n",
       "      <th></th>\n",
       "      <th>START</th>\n",
       "      <th>STOP</th>\n",
       "      <th>PATIENT</th>\n",
       "      <th>ENCOUNTER</th>\n",
       "      <th>CODE</th>\n",
       "      <th>DESCRIPTION</th>\n",
       "      <th>SCORE</th>\n",
       "      <th>COUNT</th>\n",
       "    </tr>\n",
       "  </thead>\n",
       "  <tbody>\n",
       "    <tr>\n",
       "      <th>0</th>\n",
       "      <td>03-08-2012</td>\n",
       "      <td>11-08-2012</td>\n",
       "      <td>00185faa-2760-4218-9bf5-db301acf8274</td>\n",
       "      <td>187f0326-5342-4b78-8818-db5418f9300b</td>\n",
       "      <td>1.956620e+08</td>\n",
       "      <td>Acute viral pharyngitis (disorder)</td>\n",
       "      <td>1</td>\n",
       "      <td>1</td>\n",
       "    </tr>\n",
       "    <tr>\n",
       "      <th>1</th>\n",
       "      <td>14-10-2012</td>\n",
       "      <td>25-10-2012</td>\n",
       "      <td>00185faa-2760-4218-9bf5-db301acf8274</td>\n",
       "      <td>ce150f69-e3a6-4793-95b6-243f754723c3</td>\n",
       "      <td>4.387801e+07</td>\n",
       "      <td>Streptococcal sore throat (disorder)</td>\n",
       "      <td>1</td>\n",
       "      <td>1</td>\n",
       "    </tr>\n",
       "    <tr>\n",
       "      <th>2</th>\n",
       "      <td>21-12-2017</td>\n",
       "      <td>0</td>\n",
       "      <td>00185faa-2760-4218-9bf5-db301acf8274</td>\n",
       "      <td>c28636e9-9b93-4e2f-807f-db90b4ada4f7</td>\n",
       "      <td>8.242300e+07</td>\n",
       "      <td>Chronic pain</td>\n",
       "      <td>0</td>\n",
       "      <td>1</td>\n",
       "    </tr>\n",
       "    <tr>\n",
       "      <th>3</th>\n",
       "      <td>18-10-2018</td>\n",
       "      <td>0</td>\n",
       "      <td>00185faa-2760-4218-9bf5-db301acf8274</td>\n",
       "      <td>c5220bb1-f4ea-4e8f-9c8c-bcf3f8bc073b</td>\n",
       "      <td>1.241710e+14</td>\n",
       "      <td>Chronic intractable migraine without aura</td>\n",
       "      <td>0</td>\n",
       "      <td>1</td>\n",
       "    </tr>\n",
       "    <tr>\n",
       "      <th>4</th>\n",
       "      <td>07-09-2019</td>\n",
       "      <td>0</td>\n",
       "      <td>00185faa-2760-4218-9bf5-db301acf8274</td>\n",
       "      <td>e8830400-b09d-46f3-a764-b8faeb51ab3b</td>\n",
       "      <td>1.964160e+08</td>\n",
       "      <td>Impacted molars</td>\n",
       "      <td>0</td>\n",
       "      <td>1</td>\n",
       "    </tr>\n",
       "  </tbody>\n",
       "</table>\n",
       "</div>"
      ],
      "text/plain": [
       "        START        STOP                               PATIENT  \\\n",
       "0  03-08-2012  11-08-2012  00185faa-2760-4218-9bf5-db301acf8274   \n",
       "1  14-10-2012  25-10-2012  00185faa-2760-4218-9bf5-db301acf8274   \n",
       "2  21-12-2017           0  00185faa-2760-4218-9bf5-db301acf8274   \n",
       "3  18-10-2018           0  00185faa-2760-4218-9bf5-db301acf8274   \n",
       "4  07-09-2019           0  00185faa-2760-4218-9bf5-db301acf8274   \n",
       "\n",
       "                              ENCOUNTER          CODE  \\\n",
       "0  187f0326-5342-4b78-8818-db5418f9300b  1.956620e+08   \n",
       "1  ce150f69-e3a6-4793-95b6-243f754723c3  4.387801e+07   \n",
       "2  c28636e9-9b93-4e2f-807f-db90b4ada4f7  8.242300e+07   \n",
       "3  c5220bb1-f4ea-4e8f-9c8c-bcf3f8bc073b  1.241710e+14   \n",
       "4  e8830400-b09d-46f3-a764-b8faeb51ab3b  1.964160e+08   \n",
       "\n",
       "                                 DESCRIPTION  SCORE  COUNT  \n",
       "0         Acute viral pharyngitis (disorder)      1      1  \n",
       "1       Streptococcal sore throat (disorder)      1      1  \n",
       "2                               Chronic pain      0      1  \n",
       "3  Chronic intractable migraine without aura      0      1  \n",
       "4                            Impacted molars      0      1  "
      ]
     },
     "execution_count": 26,
     "metadata": {},
     "output_type": "execute_result"
    }
   ],
   "source": [
    "df_con.head()"
   ]
  },
  {
   "cell_type": "code",
   "execution_count": 27,
   "id": "5b88fdd4",
   "metadata": {
    "execution": {
     "iopub.execute_input": "2021-11-03T18:08:30.645324Z",
     "iopub.status.busy": "2021-11-03T18:08:30.644616Z",
     "iopub.status.idle": "2021-11-03T18:08:30.670137Z",
     "shell.execute_reply": "2021-11-03T18:08:30.670650Z",
     "shell.execute_reply.started": "2021-11-03T18:06:01.998463Z"
    },
    "papermill": {
     "duration": 0.071314,
     "end_time": "2021-11-03T18:08:30.670857",
     "exception": false,
     "start_time": "2021-11-03T18:08:30.599543",
     "status": "completed"
    },
    "tags": []
   },
   "outputs": [
    {
     "name": "stderr",
     "output_type": "stream",
     "text": [
      "/opt/conda/lib/python3.7/site-packages/ipykernel_launcher.py:4: FutureWarning: Indexing with multiple keys (implicitly converted to a tuple of keys) will be deprecated, use a list instead.\n",
      "  after removing the cwd from sys.path.\n"
     ]
    },
    {
     "data": {
      "text/html": [
       "<div>\n",
       "<style scoped>\n",
       "    .dataframe tbody tr th:only-of-type {\n",
       "        vertical-align: middle;\n",
       "    }\n",
       "\n",
       "    .dataframe tbody tr th {\n",
       "        vertical-align: top;\n",
       "    }\n",
       "\n",
       "    .dataframe thead th {\n",
       "        text-align: right;\n",
       "    }\n",
       "</style>\n",
       "<table border=\"1\" class=\"dataframe\">\n",
       "  <thead>\n",
       "    <tr style=\"text-align: right;\">\n",
       "      <th></th>\n",
       "      <th>PATIENT</th>\n",
       "      <th>SCORE</th>\n",
       "      <th>COUNT</th>\n",
       "    </tr>\n",
       "  </thead>\n",
       "  <tbody>\n",
       "    <tr>\n",
       "      <th>0</th>\n",
       "      <td>00185faa-2760-4218-9bf5-db301acf8274</td>\n",
       "      <td>2</td>\n",
       "      <td>5</td>\n",
       "    </tr>\n",
       "    <tr>\n",
       "      <th>1</th>\n",
       "      <td>0042862c-9889-4a2e-b782-fac1e540ecb4</td>\n",
       "      <td>4</td>\n",
       "      <td>4</td>\n",
       "    </tr>\n",
       "    <tr>\n",
       "      <th>2</th>\n",
       "      <td>0047123f-12e7-486c-82df-53b3a450e365</td>\n",
       "      <td>4</td>\n",
       "      <td>6</td>\n",
       "    </tr>\n",
       "    <tr>\n",
       "      <th>3</th>\n",
       "      <td>010d4a3a-2316-45ed-ae15-16f01c611674</td>\n",
       "      <td>2</td>\n",
       "      <td>3</td>\n",
       "    </tr>\n",
       "    <tr>\n",
       "      <th>4</th>\n",
       "      <td>0149d553-f571-4e99-867e-fcb9625d07c2</td>\n",
       "      <td>5</td>\n",
       "      <td>9</td>\n",
       "    </tr>\n",
       "    <tr>\n",
       "      <th>...</th>\n",
       "      <td>...</td>\n",
       "      <td>...</td>\n",
       "      <td>...</td>\n",
       "    </tr>\n",
       "    <tr>\n",
       "      <th>1147</th>\n",
       "      <td>ff02f237-fedb-453b-85b1-ebfc2609c312</td>\n",
       "      <td>3</td>\n",
       "      <td>4</td>\n",
       "    </tr>\n",
       "    <tr>\n",
       "      <th>1148</th>\n",
       "      <td>ff3714ac-c7e3-4910-905e-2a321eb28144</td>\n",
       "      <td>3</td>\n",
       "      <td>6</td>\n",
       "    </tr>\n",
       "    <tr>\n",
       "      <th>1149</th>\n",
       "      <td>ff6948b7-3d62-4bfc-bc7d-dbb6748ed0be</td>\n",
       "      <td>8</td>\n",
       "      <td>15</td>\n",
       "    </tr>\n",
       "    <tr>\n",
       "      <th>1150</th>\n",
       "      <td>ffa37e71-fa14-4e84-ba9d-aece8d1d99f9</td>\n",
       "      <td>4</td>\n",
       "      <td>8</td>\n",
       "    </tr>\n",
       "    <tr>\n",
       "      <th>1151</th>\n",
       "      <td>ffcfa457-00c2-4405-9837-ac2781549c7e</td>\n",
       "      <td>5</td>\n",
       "      <td>5</td>\n",
       "    </tr>\n",
       "  </tbody>\n",
       "</table>\n",
       "<p>1152 rows × 3 columns</p>\n",
       "</div>"
      ],
      "text/plain": [
       "                                   PATIENT  SCORE  COUNT\n",
       "0     00185faa-2760-4218-9bf5-db301acf8274      2      5\n",
       "1     0042862c-9889-4a2e-b782-fac1e540ecb4      4      4\n",
       "2     0047123f-12e7-486c-82df-53b3a450e365      4      6\n",
       "3     010d4a3a-2316-45ed-ae15-16f01c611674      2      3\n",
       "4     0149d553-f571-4e99-867e-fcb9625d07c2      5      9\n",
       "...                                    ...    ...    ...\n",
       "1147  ff02f237-fedb-453b-85b1-ebfc2609c312      3      4\n",
       "1148  ff3714ac-c7e3-4910-905e-2a321eb28144      3      6\n",
       "1149  ff6948b7-3d62-4bfc-bc7d-dbb6748ed0be      8     15\n",
       "1150  ffa37e71-fa14-4e84-ba9d-aece8d1d99f9      4      8\n",
       "1151  ffcfa457-00c2-4405-9837-ac2781549c7e      5      5\n",
       "\n",
       "[1152 rows x 3 columns]"
      ]
     },
     "execution_count": 27,
     "metadata": {},
     "output_type": "execute_result"
    }
   ],
   "source": [
    "# df_score=pd.pivot_table(df_con, index=['PATIENT'],values=['SCORE','COUNT'],aggfunc=np.sum)\n",
    "# df_score.head()\n",
    "\n",
    "df_score = df_con.groupby(['PATIENT'])['SCORE', 'COUNT'].sum().reset_index()\n",
    "\n",
    "df_score"
   ]
  },
  {
   "cell_type": "code",
   "execution_count": 28,
   "id": "b6c5a314",
   "metadata": {
    "execution": {
     "iopub.execute_input": "2021-11-03T18:08:30.765238Z",
     "iopub.status.busy": "2021-11-03T18:08:30.764433Z",
     "iopub.status.idle": "2021-11-03T18:08:30.777228Z",
     "shell.execute_reply": "2021-11-03T18:08:30.776414Z",
     "shell.execute_reply.started": "2021-11-03T18:06:06.976630Z"
    },
    "papermill": {
     "duration": 0.062496,
     "end_time": "2021-11-03T18:08:30.777396",
     "exception": false,
     "start_time": "2021-11-03T18:08:30.714900",
     "status": "completed"
    },
    "tags": []
   },
   "outputs": [
    {
     "data": {
      "text/html": [
       "<div>\n",
       "<style scoped>\n",
       "    .dataframe tbody tr th:only-of-type {\n",
       "        vertical-align: middle;\n",
       "    }\n",
       "\n",
       "    .dataframe tbody tr th {\n",
       "        vertical-align: top;\n",
       "    }\n",
       "\n",
       "    .dataframe thead th {\n",
       "        text-align: right;\n",
       "    }\n",
       "</style>\n",
       "<table border=\"1\" class=\"dataframe\">\n",
       "  <thead>\n",
       "    <tr style=\"text-align: right;\">\n",
       "      <th></th>\n",
       "      <th>PATIENT</th>\n",
       "      <th>SCORE</th>\n",
       "      <th>COUNT</th>\n",
       "    </tr>\n",
       "  </thead>\n",
       "  <tbody>\n",
       "    <tr>\n",
       "      <th>0</th>\n",
       "      <td>00185faa-2760-4218-9bf5-db301acf8274</td>\n",
       "      <td>2</td>\n",
       "      <td>5</td>\n",
       "    </tr>\n",
       "    <tr>\n",
       "      <th>1</th>\n",
       "      <td>0042862c-9889-4a2e-b782-fac1e540ecb4</td>\n",
       "      <td>4</td>\n",
       "      <td>4</td>\n",
       "    </tr>\n",
       "    <tr>\n",
       "      <th>2</th>\n",
       "      <td>0047123f-12e7-486c-82df-53b3a450e365</td>\n",
       "      <td>4</td>\n",
       "      <td>6</td>\n",
       "    </tr>\n",
       "    <tr>\n",
       "      <th>3</th>\n",
       "      <td>010d4a3a-2316-45ed-ae15-16f01c611674</td>\n",
       "      <td>2</td>\n",
       "      <td>3</td>\n",
       "    </tr>\n",
       "    <tr>\n",
       "      <th>4</th>\n",
       "      <td>0149d553-f571-4e99-867e-fcb9625d07c2</td>\n",
       "      <td>5</td>\n",
       "      <td>9</td>\n",
       "    </tr>\n",
       "    <tr>\n",
       "      <th>...</th>\n",
       "      <td>...</td>\n",
       "      <td>...</td>\n",
       "      <td>...</td>\n",
       "    </tr>\n",
       "    <tr>\n",
       "      <th>1147</th>\n",
       "      <td>ff02f237-fedb-453b-85b1-ebfc2609c312</td>\n",
       "      <td>3</td>\n",
       "      <td>4</td>\n",
       "    </tr>\n",
       "    <tr>\n",
       "      <th>1148</th>\n",
       "      <td>ff3714ac-c7e3-4910-905e-2a321eb28144</td>\n",
       "      <td>3</td>\n",
       "      <td>6</td>\n",
       "    </tr>\n",
       "    <tr>\n",
       "      <th>1149</th>\n",
       "      <td>ff6948b7-3d62-4bfc-bc7d-dbb6748ed0be</td>\n",
       "      <td>8</td>\n",
       "      <td>15</td>\n",
       "    </tr>\n",
       "    <tr>\n",
       "      <th>1150</th>\n",
       "      <td>ffa37e71-fa14-4e84-ba9d-aece8d1d99f9</td>\n",
       "      <td>4</td>\n",
       "      <td>8</td>\n",
       "    </tr>\n",
       "    <tr>\n",
       "      <th>1151</th>\n",
       "      <td>ffcfa457-00c2-4405-9837-ac2781549c7e</td>\n",
       "      <td>5</td>\n",
       "      <td>5</td>\n",
       "    </tr>\n",
       "  </tbody>\n",
       "</table>\n",
       "<p>1152 rows × 3 columns</p>\n",
       "</div>"
      ],
      "text/plain": [
       "                                   PATIENT  SCORE  COUNT\n",
       "0     00185faa-2760-4218-9bf5-db301acf8274      2      5\n",
       "1     0042862c-9889-4a2e-b782-fac1e540ecb4      4      4\n",
       "2     0047123f-12e7-486c-82df-53b3a450e365      4      6\n",
       "3     010d4a3a-2316-45ed-ae15-16f01c611674      2      3\n",
       "4     0149d553-f571-4e99-867e-fcb9625d07c2      5      9\n",
       "...                                    ...    ...    ...\n",
       "1147  ff02f237-fedb-453b-85b1-ebfc2609c312      3      4\n",
       "1148  ff3714ac-c7e3-4910-905e-2a321eb28144      3      6\n",
       "1149  ff6948b7-3d62-4bfc-bc7d-dbb6748ed0be      8     15\n",
       "1150  ffa37e71-fa14-4e84-ba9d-aece8d1d99f9      4      8\n",
       "1151  ffcfa457-00c2-4405-9837-ac2781549c7e      5      5\n",
       "\n",
       "[1152 rows x 3 columns]"
      ]
     },
     "execution_count": 28,
     "metadata": {},
     "output_type": "execute_result"
    }
   ],
   "source": [
    "df_score"
   ]
  },
  {
   "cell_type": "code",
   "execution_count": 29,
   "id": "9753aec2",
   "metadata": {
    "execution": {
     "iopub.execute_input": "2021-11-03T18:08:30.869987Z",
     "iopub.status.busy": "2021-11-03T18:08:30.869272Z",
     "iopub.status.idle": "2021-11-03T18:08:30.874055Z",
     "shell.execute_reply": "2021-11-03T18:08:30.874685Z",
     "shell.execute_reply.started": "2021-11-03T18:06:10.017859Z"
    },
    "papermill": {
     "duration": 0.053021,
     "end_time": "2021-11-03T18:08:30.874891",
     "exception": false,
     "start_time": "2021-11-03T18:08:30.821870",
     "status": "completed"
    },
    "tags": []
   },
   "outputs": [],
   "source": [
    "df_score['weight']=df_score['SCORE']/df_score['COUNT']"
   ]
  },
  {
   "cell_type": "code",
   "execution_count": 30,
   "id": "fd786599",
   "metadata": {
    "execution": {
     "iopub.execute_input": "2021-11-03T18:08:30.972720Z",
     "iopub.status.busy": "2021-11-03T18:08:30.971897Z",
     "iopub.status.idle": "2021-11-03T18:08:30.977230Z",
     "shell.execute_reply": "2021-11-03T18:08:30.977852Z",
     "shell.execute_reply.started": "2021-11-03T18:06:10.979620Z"
    },
    "papermill": {
     "duration": 0.058233,
     "end_time": "2021-11-03T18:08:30.978055",
     "exception": false,
     "start_time": "2021-11-03T18:08:30.919822",
     "status": "completed"
    },
    "tags": []
   },
   "outputs": [
    {
     "data": {
      "text/html": [
       "<div>\n",
       "<style scoped>\n",
       "    .dataframe tbody tr th:only-of-type {\n",
       "        vertical-align: middle;\n",
       "    }\n",
       "\n",
       "    .dataframe tbody tr th {\n",
       "        vertical-align: top;\n",
       "    }\n",
       "\n",
       "    .dataframe thead th {\n",
       "        text-align: right;\n",
       "    }\n",
       "</style>\n",
       "<table border=\"1\" class=\"dataframe\">\n",
       "  <thead>\n",
       "    <tr style=\"text-align: right;\">\n",
       "      <th></th>\n",
       "      <th>PATIENT</th>\n",
       "      <th>SCORE</th>\n",
       "      <th>COUNT</th>\n",
       "      <th>weight</th>\n",
       "    </tr>\n",
       "  </thead>\n",
       "  <tbody>\n",
       "    <tr>\n",
       "      <th>0</th>\n",
       "      <td>00185faa-2760-4218-9bf5-db301acf8274</td>\n",
       "      <td>2</td>\n",
       "      <td>5</td>\n",
       "      <td>0.400000</td>\n",
       "    </tr>\n",
       "    <tr>\n",
       "      <th>1</th>\n",
       "      <td>0042862c-9889-4a2e-b782-fac1e540ecb4</td>\n",
       "      <td>4</td>\n",
       "      <td>4</td>\n",
       "      <td>1.000000</td>\n",
       "    </tr>\n",
       "    <tr>\n",
       "      <th>2</th>\n",
       "      <td>0047123f-12e7-486c-82df-53b3a450e365</td>\n",
       "      <td>4</td>\n",
       "      <td>6</td>\n",
       "      <td>0.666667</td>\n",
       "    </tr>\n",
       "    <tr>\n",
       "      <th>3</th>\n",
       "      <td>010d4a3a-2316-45ed-ae15-16f01c611674</td>\n",
       "      <td>2</td>\n",
       "      <td>3</td>\n",
       "      <td>0.666667</td>\n",
       "    </tr>\n",
       "    <tr>\n",
       "      <th>4</th>\n",
       "      <td>0149d553-f571-4e99-867e-fcb9625d07c2</td>\n",
       "      <td>5</td>\n",
       "      <td>9</td>\n",
       "      <td>0.555556</td>\n",
       "    </tr>\n",
       "  </tbody>\n",
       "</table>\n",
       "</div>"
      ],
      "text/plain": [
       "                                PATIENT  SCORE  COUNT    weight\n",
       "0  00185faa-2760-4218-9bf5-db301acf8274      2      5  0.400000\n",
       "1  0042862c-9889-4a2e-b782-fac1e540ecb4      4      4  1.000000\n",
       "2  0047123f-12e7-486c-82df-53b3a450e365      4      6  0.666667\n",
       "3  010d4a3a-2316-45ed-ae15-16f01c611674      2      3  0.666667\n",
       "4  0149d553-f571-4e99-867e-fcb9625d07c2      5      9  0.555556"
      ]
     },
     "execution_count": 30,
     "metadata": {},
     "output_type": "execute_result"
    }
   ],
   "source": [
    "df_score.head()"
   ]
  },
  {
   "cell_type": "code",
   "execution_count": 31,
   "id": "c878fbd7",
   "metadata": {
    "execution": {
     "iopub.execute_input": "2021-11-03T18:08:31.071888Z",
     "iopub.status.busy": "2021-11-03T18:08:31.071018Z",
     "iopub.status.idle": "2021-11-03T18:08:31.076252Z",
     "shell.execute_reply": "2021-11-03T18:08:31.076845Z",
     "shell.execute_reply.started": "2021-11-03T18:06:12.455824Z"
    },
    "papermill": {
     "duration": 0.053919,
     "end_time": "2021-11-03T18:08:31.077067",
     "exception": false,
     "start_time": "2021-11-03T18:08:31.023148",
     "status": "completed"
    },
    "tags": []
   },
   "outputs": [],
   "source": [
    "list3=[]\n",
    "for x in df_score['weight']:\n",
    "    if(x>=0.6):\n",
    "        list3.append(1)\n",
    "    else:\n",
    "        list3.append(-1)\n",
    "        \n"
   ]
  },
  {
   "cell_type": "code",
   "execution_count": 32,
   "id": "d5d61ab8",
   "metadata": {
    "execution": {
     "iopub.execute_input": "2021-11-03T18:08:31.170073Z",
     "iopub.status.busy": "2021-11-03T18:08:31.169294Z",
     "iopub.status.idle": "2021-11-03T18:08:31.174585Z",
     "shell.execute_reply": "2021-11-03T18:08:31.175200Z",
     "shell.execute_reply.started": "2021-11-03T18:06:13.701614Z"
    },
    "papermill": {
     "duration": 0.053528,
     "end_time": "2021-11-03T18:08:31.175409",
     "exception": false,
     "start_time": "2021-11-03T18:08:31.121881",
     "status": "completed"
    },
    "tags": []
   },
   "outputs": [],
   "source": [
    "df_score['adh']=list3"
   ]
  },
  {
   "cell_type": "code",
   "execution_count": 33,
   "id": "b937300a",
   "metadata": {
    "execution": {
     "iopub.execute_input": "2021-11-03T18:08:31.268704Z",
     "iopub.status.busy": "2021-11-03T18:08:31.267757Z",
     "iopub.status.idle": "2021-11-03T18:08:31.505088Z",
     "shell.execute_reply": "2021-11-03T18:08:31.505777Z",
     "shell.execute_reply.started": "2021-11-03T18:06:16.247831Z"
    },
    "papermill": {
     "duration": 0.286073,
     "end_time": "2021-11-03T18:08:31.505979",
     "exception": false,
     "start_time": "2021-11-03T18:08:31.219906",
     "status": "completed"
    },
    "tags": []
   },
   "outputs": [
    {
     "data": {
      "text/plain": [
       "Text(0, 0.5, 'Count of People')"
      ]
     },
     "execution_count": 33,
     "metadata": {},
     "output_type": "execute_result"
    },
    {
     "data": {
      "image/png": "[encoded data removed]",
      "text/plain": [
       "<Figure size 504x432 with 1 Axes>"
      ]
     },
     "metadata": {},
     "output_type": "display_data"
    }
   ],
   "source": [
    "sns.set(font_scale=1.4)\n",
    "df_score['adh'].value_counts().plot(kind='bar', figsize=(7, 6), rot=0)\n",
    "plt.xlabel(\"ADHERENCE DISTRIBUTION\", labelpad=14)\n",
    "plt.ylabel(\"Count of People\", labelpad=14)\n"
   ]
  },
  {
   "cell_type": "code",
   "execution_count": 34,
   "id": "6f673915",
   "metadata": {
    "execution": {
     "iopub.execute_input": "2021-11-03T18:08:31.600435Z",
     "iopub.status.busy": "2021-11-03T18:08:31.599700Z",
     "iopub.status.idle": "2021-11-03T18:08:31.610962Z",
     "shell.execute_reply": "2021-11-03T18:08:31.611556Z",
     "shell.execute_reply.started": "2021-11-03T18:06:18.937331Z"
    },
    "papermill": {
     "duration": 0.060364,
     "end_time": "2021-11-03T18:08:31.611769",
     "exception": false,
     "start_time": "2021-11-03T18:08:31.551405",
     "status": "completed"
    },
    "tags": []
   },
   "outputs": [
    {
     "data": {
      "text/html": [
       "<div>\n",
       "<style scoped>\n",
       "    .dataframe tbody tr th:only-of-type {\n",
       "        vertical-align: middle;\n",
       "    }\n",
       "\n",
       "    .dataframe tbody tr th {\n",
       "        vertical-align: top;\n",
       "    }\n",
       "\n",
       "    .dataframe thead th {\n",
       "        text-align: right;\n",
       "    }\n",
       "</style>\n",
       "<table border=\"1\" class=\"dataframe\">\n",
       "  <thead>\n",
       "    <tr style=\"text-align: right;\">\n",
       "      <th></th>\n",
       "      <th>PATIENT</th>\n",
       "      <th>SCORE</th>\n",
       "      <th>COUNT</th>\n",
       "      <th>weight</th>\n",
       "      <th>adh</th>\n",
       "    </tr>\n",
       "  </thead>\n",
       "  <tbody>\n",
       "    <tr>\n",
       "      <th>0</th>\n",
       "      <td>00185faa-2760-4218-9bf5-db301acf8274</td>\n",
       "      <td>2</td>\n",
       "      <td>5</td>\n",
       "      <td>0.400000</td>\n",
       "      <td>-1</td>\n",
       "    </tr>\n",
       "    <tr>\n",
       "      <th>1</th>\n",
       "      <td>0042862c-9889-4a2e-b782-fac1e540ecb4</td>\n",
       "      <td>4</td>\n",
       "      <td>4</td>\n",
       "      <td>1.000000</td>\n",
       "      <td>1</td>\n",
       "    </tr>\n",
       "    <tr>\n",
       "      <th>2</th>\n",
       "      <td>0047123f-12e7-486c-82df-53b3a450e365</td>\n",
       "      <td>4</td>\n",
       "      <td>6</td>\n",
       "      <td>0.666667</td>\n",
       "      <td>1</td>\n",
       "    </tr>\n",
       "    <tr>\n",
       "      <th>3</th>\n",
       "      <td>010d4a3a-2316-45ed-ae15-16f01c611674</td>\n",
       "      <td>2</td>\n",
       "      <td>3</td>\n",
       "      <td>0.666667</td>\n",
       "      <td>1</td>\n",
       "    </tr>\n",
       "    <tr>\n",
       "      <th>4</th>\n",
       "      <td>0149d553-f571-4e99-867e-fcb9625d07c2</td>\n",
       "      <td>5</td>\n",
       "      <td>9</td>\n",
       "      <td>0.555556</td>\n",
       "      <td>-1</td>\n",
       "    </tr>\n",
       "  </tbody>\n",
       "</table>\n",
       "</div>"
      ],
      "text/plain": [
       "                                PATIENT  SCORE  COUNT    weight  adh\n",
       "0  00185faa-2760-4218-9bf5-db301acf8274      2      5  0.400000   -1\n",
       "1  0042862c-9889-4a2e-b782-fac1e540ecb4      4      4  1.000000    1\n",
       "2  0047123f-12e7-486c-82df-53b3a450e365      4      6  0.666667    1\n",
       "3  010d4a3a-2316-45ed-ae15-16f01c611674      2      3  0.666667    1\n",
       "4  0149d553-f571-4e99-867e-fcb9625d07c2      5      9  0.555556   -1"
      ]
     },
     "execution_count": 34,
     "metadata": {},
     "output_type": "execute_result"
    }
   ],
   "source": [
    "df_score.head()"
   ]
  },
  {
   "cell_type": "code",
   "execution_count": 35,
   "id": "ef46e377",
   "metadata": {
    "execution": {
     "iopub.execute_input": "2021-11-03T18:08:31.707697Z",
     "iopub.status.busy": "2021-11-03T18:08:31.706933Z",
     "iopub.status.idle": "2021-11-03T18:08:31.718364Z",
     "shell.execute_reply": "2021-11-03T18:08:31.718991Z",
     "shell.execute_reply.started": "2021-11-03T18:07:22.508420Z"
    },
    "papermill": {
     "duration": 0.061115,
     "end_time": "2021-11-03T18:08:31.719214",
     "exception": false,
     "start_time": "2021-11-03T18:08:31.658099",
     "status": "completed"
    },
    "tags": []
   },
   "outputs": [
    {
     "data": {
      "text/html": [
       "<div>\n",
       "<style scoped>\n",
       "    .dataframe tbody tr th:only-of-type {\n",
       "        vertical-align: middle;\n",
       "    }\n",
       "\n",
       "    .dataframe tbody tr th {\n",
       "        vertical-align: top;\n",
       "    }\n",
       "\n",
       "    .dataframe thead th {\n",
       "        text-align: right;\n",
       "    }\n",
       "</style>\n",
       "<table border=\"1\" class=\"dataframe\">\n",
       "  <thead>\n",
       "    <tr style=\"text-align: right;\">\n",
       "      <th></th>\n",
       "      <th>Id</th>\n",
       "      <th>SCORE</th>\n",
       "      <th>COUNT</th>\n",
       "      <th>WEIGHT</th>\n",
       "      <th>ADH</th>\n",
       "    </tr>\n",
       "  </thead>\n",
       "  <tbody>\n",
       "    <tr>\n",
       "      <th>0</th>\n",
       "      <td>00185faa-2760-4218-9bf5-db301acf8274</td>\n",
       "      <td>2</td>\n",
       "      <td>5</td>\n",
       "      <td>0.400000</td>\n",
       "      <td>-1</td>\n",
       "    </tr>\n",
       "    <tr>\n",
       "      <th>1</th>\n",
       "      <td>0042862c-9889-4a2e-b782-fac1e540ecb4</td>\n",
       "      <td>4</td>\n",
       "      <td>4</td>\n",
       "      <td>1.000000</td>\n",
       "      <td>1</td>\n",
       "    </tr>\n",
       "    <tr>\n",
       "      <th>2</th>\n",
       "      <td>0047123f-12e7-486c-82df-53b3a450e365</td>\n",
       "      <td>4</td>\n",
       "      <td>6</td>\n",
       "      <td>0.666667</td>\n",
       "      <td>1</td>\n",
       "    </tr>\n",
       "    <tr>\n",
       "      <th>3</th>\n",
       "      <td>010d4a3a-2316-45ed-ae15-16f01c611674</td>\n",
       "      <td>2</td>\n",
       "      <td>3</td>\n",
       "      <td>0.666667</td>\n",
       "      <td>1</td>\n",
       "    </tr>\n",
       "    <tr>\n",
       "      <th>4</th>\n",
       "      <td>0149d553-f571-4e99-867e-fcb9625d07c2</td>\n",
       "      <td>5</td>\n",
       "      <td>9</td>\n",
       "      <td>0.555556</td>\n",
       "      <td>-1</td>\n",
       "    </tr>\n",
       "  </tbody>\n",
       "</table>\n",
       "</div>"
      ],
      "text/plain": [
       "                                     Id  SCORE  COUNT    WEIGHT  ADH\n",
       "0  00185faa-2760-4218-9bf5-db301acf8274      2      5  0.400000   -1\n",
       "1  0042862c-9889-4a2e-b782-fac1e540ecb4      4      4  1.000000    1\n",
       "2  0047123f-12e7-486c-82df-53b3a450e365      4      6  0.666667    1\n",
       "3  010d4a3a-2316-45ed-ae15-16f01c611674      2      3  0.666667    1\n",
       "4  0149d553-f571-4e99-867e-fcb9625d07c2      5      9  0.555556   -1"
      ]
     },
     "execution_count": 35,
     "metadata": {},
     "output_type": "execute_result"
    }
   ],
   "source": [
    "df_score.columns = ['Id', 'SCORE', 'COUNT','WEIGHT','ADH']\n",
    "df_score.head()"
   ]
  },
  {
   "cell_type": "code",
   "execution_count": 36,
   "id": "ad861a79",
   "metadata": {
    "execution": {
     "iopub.execute_input": "2021-11-03T18:08:31.820207Z",
     "iopub.status.busy": "2021-11-03T18:08:31.819040Z",
     "iopub.status.idle": "2021-11-03T18:08:31.841746Z",
     "shell.execute_reply": "2021-11-03T18:08:31.842376Z",
     "shell.execute_reply.started": "2021-11-03T18:07:26.004045Z"
    },
    "papermill": {
     "duration": 0.075915,
     "end_time": "2021-11-03T18:08:31.842585",
     "exception": false,
     "start_time": "2021-11-03T18:08:31.766670",
     "status": "completed"
    },
    "tags": []
   },
   "outputs": [
    {
     "name": "stdout",
     "output_type": "stream",
     "text": [
      "                                        Id  BIRTHDATE   DEATHDATE  \\\n",
      "0     00185faa-2760-4218-9bf5-db301acf8274 2003-11-18         NaN   \n",
      "1     0042862c-9889-4a2e-b782-fac1e540ecb4 2009-11-26         NaN   \n",
      "2     0047123f-12e7-486c-82df-53b3a450e365 1960-01-20         NaN   \n",
      "3     010d4a3a-2316-45ed-ae15-16f01c611674 1998-05-31         NaN   \n",
      "4     0149d553-f571-4e99-867e-fcb9625d07c2 1979-06-21         NaN   \n",
      "...                                    ...        ...         ...   \n",
      "1147  ff02f237-fedb-453b-85b1-ebfc2609c312 1999-01-09         NaN   \n",
      "1148  ff3714ac-c7e3-4910-905e-2a321eb28144 1997-05-20         NaN   \n",
      "1149  ff6948b7-3d62-4bfc-bc7d-dbb6748ed0be 1977-06-27         NaN   \n",
      "1150  ffa37e71-fa14-4e84-ba9d-aece8d1d99f9 1966-02-11  06-01-2003   \n",
      "1151  ffcfa457-00c2-4405-9837-ac2781549c7e 2016-06-13         NaN   \n",
      "\n",
      "             FIRST          LAST   RACE    ETHNICITY GENDER          CITY  \\\n",
      "0       Eusebio566      Wyman904  white  nonhispanic      M          Lynn   \n",
      "1        Dewitt635      Feest103  white  nonhispanic      M        Boston   \n",
      "2        Jordon466     Harber290  black  nonhispanic      M     Middleton   \n",
      "3       Patrick786  Hettinger594  white  nonhispanic      M    Pittsfield   \n",
      "4         Sophie40    Kessler503  white     hispanic      F  Northborough   \n",
      "...            ...           ...    ...          ...    ...           ...   \n",
      "1147      Riley817   Donnelly343  white  nonhispanic      M         Dover   \n",
      "1148  Salvatore257    Roberts511  white  nonhispanic      M   Belchertown   \n",
      "1149       Kris249   Champlin946  white  nonhispanic      F    Fall River   \n",
      "1150    Shirley182     Douglas31  black  nonhispanic      F          Lynn   \n",
      "1151        Sid118        Von197  white  nonhispanic      M      Chicopee   \n",
      "\n",
      "              STATE            COUNTY  HEALTHCARE_EXPENSES  \\\n",
      "0     Massachusetts      Essex County            360851.05   \n",
      "1     Massachusetts    Suffolk County             20006.08   \n",
      "2     Massachusetts      Essex County            185715.36   \n",
      "3     Massachusetts  Berkshire County            504727.10   \n",
      "4     Massachusetts  Worcester County            911327.42   \n",
      "...             ...               ...                  ...   \n",
      "1147  Massachusetts    Norfolk County            548297.95   \n",
      "1148  Massachusetts  Hampshire County            530003.98   \n",
      "1149  Massachusetts    Bristol County            994509.38   \n",
      "1150  Massachusetts      Essex County            115095.69   \n",
      "1151  Massachusetts    Hampden County             91625.62   \n",
      "\n",
      "      HEALTHCARE_COVERAGE  age  SCORE  COUNT    WEIGHT  ADH  \n",
      "0                 9863.36   18      2      5  0.400000   -1  \n",
      "1                 1240.76   12      4      4  1.000000    1  \n",
      "2                 7108.77   61      4      6  0.666667    1  \n",
      "3                 3346.40   23      2      3  0.666667    1  \n",
      "4                 6713.48   42      5      9  0.555556   -1  \n",
      "...                   ...  ...    ...    ...       ...  ...  \n",
      "1147              2920.64   22      3      4  0.750000    1  \n",
      "1148              3405.56   24      3      6  0.500000   -1  \n",
      "1149             16754.77   44      8     15  0.533333   -1  \n",
      "1150              7002.65   55      4      8  0.500000   -1  \n",
      "1151              1786.56    5      5      5  1.000000    1  \n",
      "\n",
      "[1152 rows x 18 columns]\n"
     ]
    }
   ],
   "source": [
    "df = pd.merge(df_patients, df_score, on=\"Id\")\n",
    "print(df)"
   ]
  },
  {
   "cell_type": "code",
   "execution_count": 37,
   "id": "3d348234",
   "metadata": {
    "execution": {
     "iopub.execute_input": "2021-11-03T18:08:31.939463Z",
     "iopub.status.busy": "2021-11-03T18:08:31.938745Z",
     "iopub.status.idle": "2021-11-03T18:08:31.960062Z",
     "shell.execute_reply": "2021-11-03T18:08:31.960704Z",
     "shell.execute_reply.started": "2021-11-03T18:07:34.914835Z"
    },
    "papermill": {
     "duration": 0.071936,
     "end_time": "2021-11-03T18:08:31.960928",
     "exception": false,
     "start_time": "2021-11-03T18:08:31.888992",
     "status": "completed"
    },
    "tags": []
   },
   "outputs": [
    {
     "data": {
      "text/html": [
       "<div>\n",
       "<style scoped>\n",
       "    .dataframe tbody tr th:only-of-type {\n",
       "        vertical-align: middle;\n",
       "    }\n",
       "\n",
       "    .dataframe tbody tr th {\n",
       "        vertical-align: top;\n",
       "    }\n",
       "\n",
       "    .dataframe thead th {\n",
       "        text-align: right;\n",
       "    }\n",
       "</style>\n",
       "<table border=\"1\" class=\"dataframe\">\n",
       "  <thead>\n",
       "    <tr style=\"text-align: right;\">\n",
       "      <th></th>\n",
       "      <th>Id</th>\n",
       "      <th>BIRTHDATE</th>\n",
       "      <th>DEATHDATE</th>\n",
       "      <th>FIRST</th>\n",
       "      <th>LAST</th>\n",
       "      <th>RACE</th>\n",
       "      <th>ETHNICITY</th>\n",
       "      <th>GENDER</th>\n",
       "      <th>CITY</th>\n",
       "      <th>STATE</th>\n",
       "      <th>COUNTY</th>\n",
       "      <th>HEALTHCARE_EXPENSES</th>\n",
       "      <th>HEALTHCARE_COVERAGE</th>\n",
       "      <th>age</th>\n",
       "      <th>SCORE</th>\n",
       "      <th>COUNT</th>\n",
       "      <th>WEIGHT</th>\n",
       "      <th>ADH</th>\n",
       "    </tr>\n",
       "  </thead>\n",
       "  <tbody>\n",
       "    <tr>\n",
       "      <th>0</th>\n",
       "      <td>00185faa-2760-4218-9bf5-db301acf8274</td>\n",
       "      <td>2003-11-18</td>\n",
       "      <td>NaN</td>\n",
       "      <td>Eusebio566</td>\n",
       "      <td>Wyman904</td>\n",
       "      <td>white</td>\n",
       "      <td>nonhispanic</td>\n",
       "      <td>M</td>\n",
       "      <td>Lynn</td>\n",
       "      <td>Massachusetts</td>\n",
       "      <td>Essex County</td>\n",
       "      <td>360851.05</td>\n",
       "      <td>9863.36</td>\n",
       "      <td>18</td>\n",
       "      <td>2</td>\n",
       "      <td>5</td>\n",
       "      <td>0.400000</td>\n",
       "      <td>-1</td>\n",
       "    </tr>\n",
       "    <tr>\n",
       "      <th>1</th>\n",
       "      <td>0042862c-9889-4a2e-b782-fac1e540ecb4</td>\n",
       "      <td>2009-11-26</td>\n",
       "      <td>NaN</td>\n",
       "      <td>Dewitt635</td>\n",
       "      <td>Feest103</td>\n",
       "      <td>white</td>\n",
       "      <td>nonhispanic</td>\n",
       "      <td>M</td>\n",
       "      <td>Boston</td>\n",
       "      <td>Massachusetts</td>\n",
       "      <td>Suffolk County</td>\n",
       "      <td>20006.08</td>\n",
       "      <td>1240.76</td>\n",
       "      <td>12</td>\n",
       "      <td>4</td>\n",
       "      <td>4</td>\n",
       "      <td>1.000000</td>\n",
       "      <td>1</td>\n",
       "    </tr>\n",
       "    <tr>\n",
       "      <th>2</th>\n",
       "      <td>0047123f-12e7-486c-82df-53b3a450e365</td>\n",
       "      <td>1960-01-20</td>\n",
       "      <td>NaN</td>\n",
       "      <td>Jordon466</td>\n",
       "      <td>Harber290</td>\n",
       "      <td>black</td>\n",
       "      <td>nonhispanic</td>\n",
       "      <td>M</td>\n",
       "      <td>Middleton</td>\n",
       "      <td>Massachusetts</td>\n",
       "      <td>Essex County</td>\n",
       "      <td>185715.36</td>\n",
       "      <td>7108.77</td>\n",
       "      <td>61</td>\n",
       "      <td>4</td>\n",
       "      <td>6</td>\n",
       "      <td>0.666667</td>\n",
       "      <td>1</td>\n",
       "    </tr>\n",
       "    <tr>\n",
       "      <th>3</th>\n",
       "      <td>010d4a3a-2316-45ed-ae15-16f01c611674</td>\n",
       "      <td>1998-05-31</td>\n",
       "      <td>NaN</td>\n",
       "      <td>Patrick786</td>\n",
       "      <td>Hettinger594</td>\n",
       "      <td>white</td>\n",
       "      <td>nonhispanic</td>\n",
       "      <td>M</td>\n",
       "      <td>Pittsfield</td>\n",
       "      <td>Massachusetts</td>\n",
       "      <td>Berkshire County</td>\n",
       "      <td>504727.10</td>\n",
       "      <td>3346.40</td>\n",
       "      <td>23</td>\n",
       "      <td>2</td>\n",
       "      <td>3</td>\n",
       "      <td>0.666667</td>\n",
       "      <td>1</td>\n",
       "    </tr>\n",
       "    <tr>\n",
       "      <th>4</th>\n",
       "      <td>0149d553-f571-4e99-867e-fcb9625d07c2</td>\n",
       "      <td>1979-06-21</td>\n",
       "      <td>NaN</td>\n",
       "      <td>Sophie40</td>\n",
       "      <td>Kessler503</td>\n",
       "      <td>white</td>\n",
       "      <td>hispanic</td>\n",
       "      <td>F</td>\n",
       "      <td>Northborough</td>\n",
       "      <td>Massachusetts</td>\n",
       "      <td>Worcester County</td>\n",
       "      <td>911327.42</td>\n",
       "      <td>6713.48</td>\n",
       "      <td>42</td>\n",
       "      <td>5</td>\n",
       "      <td>9</td>\n",
       "      <td>0.555556</td>\n",
       "      <td>-1</td>\n",
       "    </tr>\n",
       "  </tbody>\n",
       "</table>\n",
       "</div>"
      ],
      "text/plain": [
       "                                     Id  BIRTHDATE DEATHDATE       FIRST  \\\n",
       "0  00185faa-2760-4218-9bf5-db301acf8274 2003-11-18       NaN  Eusebio566   \n",
       "1  0042862c-9889-4a2e-b782-fac1e540ecb4 2009-11-26       NaN   Dewitt635   \n",
       "2  0047123f-12e7-486c-82df-53b3a450e365 1960-01-20       NaN   Jordon466   \n",
       "3  010d4a3a-2316-45ed-ae15-16f01c611674 1998-05-31       NaN  Patrick786   \n",
       "4  0149d553-f571-4e99-867e-fcb9625d07c2 1979-06-21       NaN    Sophie40   \n",
       "\n",
       "           LAST   RACE    ETHNICITY GENDER          CITY          STATE  \\\n",
       "0      Wyman904  white  nonhispanic      M          Lynn  Massachusetts   \n",
       "1      Feest103  white  nonhispanic      M        Boston  Massachusetts   \n",
       "2     Harber290  black  nonhispanic      M     Middleton  Massachusetts   \n",
       "3  Hettinger594  white  nonhispanic      M    Pittsfield  Massachusetts   \n",
       "4    Kessler503  white     hispanic      F  Northborough  Massachusetts   \n",
       "\n",
       "             COUNTY  HEALTHCARE_EXPENSES  HEALTHCARE_COVERAGE  age  SCORE  \\\n",
       "0      Essex County            360851.05              9863.36   18      2   \n",
       "1    Suffolk County             20006.08              1240.76   12      4   \n",
       "2      Essex County            185715.36              7108.77   61      4   \n",
       "3  Berkshire County            504727.10              3346.40   23      2   \n",
       "4  Worcester County            911327.42              6713.48   42      5   \n",
       "\n",
       "   COUNT    WEIGHT  ADH  \n",
       "0      5  0.400000   -1  \n",
       "1      4  1.000000    1  \n",
       "2      6  0.666667    1  \n",
       "3      3  0.666667    1  \n",
       "4      9  0.555556   -1  "
      ]
     },
     "execution_count": 37,
     "metadata": {},
     "output_type": "execute_result"
    }
   ],
   "source": [
    "df.head()"
   ]
  },
  {
   "cell_type": "code",
   "execution_count": 38,
   "id": "5ba36f8f",
   "metadata": {
    "execution": {
     "iopub.execute_input": "2021-11-03T18:08:32.061802Z",
     "iopub.status.busy": "2021-11-03T18:08:32.060934Z",
     "iopub.status.idle": "2021-11-03T18:08:32.065860Z",
     "shell.execute_reply": "2021-11-03T18:08:32.066523Z",
     "shell.execute_reply.started": "2021-11-03T18:07:56.001915Z"
    },
    "papermill": {
     "duration": 0.057915,
     "end_time": "2021-11-03T18:08:32.066734",
     "exception": false,
     "start_time": "2021-11-03T18:08:32.008819",
     "status": "completed"
    },
    "tags": []
   },
   "outputs": [
    {
     "data": {
      "text/plain": [
       "(1152, 18)"
      ]
     },
     "execution_count": 38,
     "metadata": {},
     "output_type": "execute_result"
    }
   ],
   "source": [
    "df.shape"
   ]
  },
  {
   "cell_type": "code",
   "execution_count": null,
   "id": "88deac3b",
   "metadata": {
    "papermill": {
     "duration": 0.047314,
     "end_time": "2021-11-03T18:08:32.162668",
     "exception": false,
     "start_time": "2021-11-03T18:08:32.115354",
     "status": "completed"
    },
    "tags": []
   },
   "outputs": [],
   "source": []
  }
 ],
 "metadata": {
  "kernelspec": {
   "display_name": "Python 3",
   "language": "python",
   "name": "python3"
  },
  "language_info": {
   "codemirror_mode": {
    "name": "ipython",
    "version": 3
   },
   "file_extension": ".py",
   "mimetype": "text/x-python",
   "name": "python",
   "nbconvert_exporter": "python",
   "pygments_lexer": "ipython3",
   "version": "3.7.10"
  },
  "papermill": {
   "default_parameters": {},
   "duration": 16.970729,
   "end_time": "2021-11-03T18:08:33.223617",
   "environment_variables": {},
   "exception": null,
   "input_path": "__notebook__.ipynb",
   "output_path": "__notebook__.ipynb",
   "parameters": {},
   "start_time": "2021-11-03T18:08:16.252888",
   "version": "2.3.3"
  }
 },
 "nbformat": 4,
 "nbformat_minor": 5
}
